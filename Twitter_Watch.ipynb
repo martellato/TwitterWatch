{
  "nbformat": 4,
  "nbformat_minor": 0,
  "metadata": {
    "colab": {
      "provenance": [],
      "machine_shape": "hm"
    },
    "kernelspec": {
      "name": "python3",
      "display_name": "Python 3"
    },
    "language_info": {
      "name": "python"
    },
    "accelerator": "GPU",
    "gpuClass": "premium"
  },
  "cells": [
    {
      "cell_type": "markdown",
      "source": [
        "## **Twitter Watch**\n",
        "\n",
        "Have you ever wished you could have a summary of particular accounts without reading all of their tweets? Were you ever curious who are the top fans of those accounts?\n",
        "Or simpler, did you ever wish you could search through an account's tweets in a csv file rather than twitter? Here, we can do all of these tasks using several lines of coding.  \n",
        "\n",
        "We first want to extract tweets from various accounts, then categorize them using sentiment analysis to positive, neutral, or negative. We then will get the latest 5000 replies and do a sentiment analysis on those too. Next, we identify the top 5 active followers of these accounts. And finally, we summarize the accounts in 1 and 2 paragraphs. This way, you will know what each accout has been mainly focused on in a particular period of time. \n",
        "\n",
        "Ok, let's get started.\n",
        "\n",
        "Here are the accounts for which we are scrapping the tweets since Feb 1st:\n",
        "\n",
        "1. Elon Musk (@elonmusk)\n",
        "2. Barack Obama (@BarackObama)\n",
        "3. Cathie Wood (@cathiedwood)\n",
        "\n",
        "We will do all the steps separately for each one of these accounts.\n",
        "\n",
        "## 1. Elon Musk\n",
        "\n",
        "### 1.1. Scraping tweets\n"
      ],
      "metadata": {
        "id": "n9gdzrwHfxIr"
      }
    },
    {
      "cell_type": "code",
      "source": [
        "! pip install snscrape\n",
        "import pandas as pd\n",
        "import snscrape.modules.twitter as sntwitter"
      ],
      "metadata": {
        "colab": {
          "base_uri": "https://localhost:8080/"
        },
        "id": "cIAMRu3dFM4f",
        "outputId": "42b051d6-a7fe-4447-e06c-302a7b2e78cf"
      },
      "execution_count": 1,
      "outputs": [
        {
          "output_type": "stream",
          "name": "stdout",
          "text": [
            "Looking in indexes: https://pypi.org/simple, https://us-python.pkg.dev/colab-wheels/public/simple/\n",
            "Requirement already satisfied: snscrape in /usr/local/lib/python3.9/dist-packages (0.6.0.20230303)\n",
            "Requirement already satisfied: beautifulsoup4 in /usr/local/lib/python3.9/dist-packages (from snscrape) (4.6.3)\n",
            "Requirement already satisfied: filelock in /usr/local/lib/python3.9/dist-packages (from snscrape) (3.9.0)\n",
            "Requirement already satisfied: lxml in /usr/local/lib/python3.9/dist-packages (from snscrape) (4.9.2)\n",
            "Requirement already satisfied: requests[socks] in /usr/local/lib/python3.9/dist-packages (from snscrape) (2.25.1)\n",
            "Requirement already satisfied: certifi>=2017.4.17 in /usr/local/lib/python3.9/dist-packages (from requests[socks]->snscrape) (2022.12.7)\n",
            "Requirement already satisfied: idna<3,>=2.5 in /usr/local/lib/python3.9/dist-packages (from requests[socks]->snscrape) (2.10)\n",
            "Requirement already satisfied: chardet<5,>=3.0.2 in /usr/local/lib/python3.9/dist-packages (from requests[socks]->snscrape) (4.0.0)\n",
            "Requirement already satisfied: urllib3<1.27,>=1.21.1 in /usr/local/lib/python3.9/dist-packages (from requests[socks]->snscrape) (1.26.14)\n",
            "Requirement already satisfied: PySocks!=1.5.7,>=1.5.6 in /usr/local/lib/python3.9/dist-packages (from requests[socks]->snscrape) (1.7.1)\n"
          ]
        }
      ]
    },
    {
      "cell_type": "code",
      "execution_count": 2,
      "metadata": {
        "colab": {
          "base_uri": "https://localhost:8080/"
        },
        "id": "J4tBZlNIfPaj",
        "outputId": "a925c007-f118-4904-8627-30a2c720d336"
      },
      "outputs": [
        {
          "output_type": "stream",
          "name": "stderr",
          "text": [
            "<ipython-input-2-d05b2c3808d3>:10: DeprecatedFeatureWarning: content is deprecated, use rawContent instead\n",
            "  tweets_elon.append([tweet.date, tweet.user.username, tweet.content])\n"
          ]
        }
      ],
      "source": [
        "query_elon = '(from:elonmusk) until:2023-03-11 since:2023-02-01'\n",
        "limit = 2000\n",
        "tweets_elon = []\n",
        "for tweet in sntwitter.TwitterSearchScraper(query_elon).get_items():\n",
        "  #print(vars(tweet))\n",
        "  #break\n",
        "  if len(tweets_elon)==limit:\n",
        "    break\n",
        "  else:\n",
        "    tweets_elon.append([tweet.date, tweet.user.username, tweet.content])\n",
        "  \n",
        "  df_elon = pd.DataFrame(tweets_elon,columns = ['date','username','tweet'])\n",
        "\n"
      ]
    },
    {
      "cell_type": "code",
      "source": [
        "print(df_elon)"
      ],
      "metadata": {
        "colab": {
          "base_uri": "https://localhost:8080/"
        },
        "id": "khg6TLFMkIKb",
        "outputId": "72587bf6-2e56-4323-9da4-e3c4f382bab3"
      },
      "execution_count": 3,
      "outputs": [
        {
          "output_type": "stream",
          "name": "stdout",
          "text": [
            "                         date  username  \\\n",
            "0   2023-03-10 21:11:39+00:00  elonmusk   \n",
            "1   2023-03-10 20:04:01+00:00  elonmusk   \n",
            "2   2023-03-10 17:03:53+00:00  elonmusk   \n",
            "3   2023-03-10 08:57:00+00:00  elonmusk   \n",
            "4   2023-03-10 08:55:56+00:00  elonmusk   \n",
            "..                        ...       ...   \n",
            "946 2023-02-01 03:56:47+00:00  elonmusk   \n",
            "947 2023-02-01 03:52:10+00:00  elonmusk   \n",
            "948 2023-02-01 03:42:03+00:00  elonmusk   \n",
            "949 2023-02-01 03:38:03+00:00  elonmusk   \n",
            "950 2023-02-01 03:32:38+00:00  elonmusk   \n",
            "\n",
            "                                                 tweet  \n",
            "0                                   @TheRabbitHole84 !  \n",
            "1                 @ShellenbergerMD Very entertaining 🤣  \n",
            "2                       @BillyM2k He studied the blade  \n",
            "3                                  @JonathanTurley Wow  \n",
            "4                                        @allgarbled 😂  \n",
            "..                                                 ...  \n",
            "946  @MrAndyNgo @pwsyme Business Insider is not a r...  \n",
            "947  @RepDanBishop @ShellenbergerMD No one is above...  \n",
            "948    @TheBabylonBee Accurate https://t.co/xflwJJqQSd  \n",
            "949  @ElijahSchaffer It expresses this view without...  \n",
            "950                  @EvaFoxU @stillgray Investigating  \n",
            "\n",
            "[951 rows x 3 columns]\n"
          ]
        }
      ]
    },
    {
      "cell_type": "markdown",
      "source": [
        "### 1.2. Sentiment Analysis\n",
        "\n",
        "Alright, we got the tweets. Now, lets do sentiment analysis using zero-shot classification in three categories: \n",
        "\n",
        "1. Positive\n",
        "2. Neutral\n",
        "3. Negative\n",
        "\n",
        "We first look at Elon's tweets and then the replies. \n",
        "Note: speciall thanks to the sweet Hugging Face APIs!\n",
        "#### 1.2.1. Elon's Tweets"
      ],
      "metadata": {
        "id": "8gOKrZzRlZl2"
      }
    },
    {
      "cell_type": "code",
      "source": [
        "! pip install transformers"
      ],
      "metadata": {
        "colab": {
          "base_uri": "https://localhost:8080/"
        },
        "id": "JvqgCGHamxUN",
        "outputId": "7c470309-41ee-40cb-efb9-78ff7558f1c1"
      },
      "execution_count": 5,
      "outputs": [
        {
          "output_type": "stream",
          "name": "stdout",
          "text": [
            "Looking in indexes: https://pypi.org/simple, https://us-python.pkg.dev/colab-wheels/public/simple/\n",
            "Collecting transformers\n",
            "  Downloading transformers-4.26.1-py3-none-any.whl (6.3 MB)\n",
            "\u001b[2K     \u001b[90m━━━━━━━━━━━━━━━━━━━━━━━━━━━━━━━━━━━━━━━━\u001b[0m \u001b[32m6.3/6.3 MB\u001b[0m \u001b[31m70.0 MB/s\u001b[0m eta \u001b[36m0:00:00\u001b[0m\n",
            "\u001b[?25hRequirement already satisfied: regex!=2019.12.17 in /usr/local/lib/python3.9/dist-packages (from transformers) (2022.6.2)\n",
            "Requirement already satisfied: numpy>=1.17 in /usr/local/lib/python3.9/dist-packages (from transformers) (1.22.4)\n",
            "Requirement already satisfied: pyyaml>=5.1 in /usr/local/lib/python3.9/dist-packages (from transformers) (6.0)\n",
            "Requirement already satisfied: filelock in /usr/local/lib/python3.9/dist-packages (from transformers) (3.9.0)\n",
            "Collecting huggingface-hub<1.0,>=0.11.0\n",
            "  Downloading huggingface_hub-0.13.1-py3-none-any.whl (199 kB)\n",
            "\u001b[2K     \u001b[90m━━━━━━━━━━━━━━━━━━━━━━━━━━━━━━━━━━━━━━\u001b[0m \u001b[32m199.2/199.2 KB\u001b[0m \u001b[31m28.6 MB/s\u001b[0m eta \u001b[36m0:00:00\u001b[0m\n",
            "\u001b[?25hCollecting tokenizers!=0.11.3,<0.14,>=0.11.1\n",
            "  Downloading tokenizers-0.13.2-cp39-cp39-manylinux_2_17_x86_64.manylinux2014_x86_64.whl (7.6 MB)\n",
            "\u001b[2K     \u001b[90m━━━━━━━━━━━━━━━━━━━━━━━━━━━━━━━━━━━━━━━━\u001b[0m \u001b[32m7.6/7.6 MB\u001b[0m \u001b[31m67.2 MB/s\u001b[0m eta \u001b[36m0:00:00\u001b[0m\n",
            "\u001b[?25hRequirement already satisfied: requests in /usr/local/lib/python3.9/dist-packages (from transformers) (2.25.1)\n",
            "Requirement already satisfied: tqdm>=4.27 in /usr/local/lib/python3.9/dist-packages (from transformers) (4.65.0)\n",
            "Requirement already satisfied: packaging>=20.0 in /usr/local/lib/python3.9/dist-packages (from transformers) (23.0)\n",
            "Requirement already satisfied: typing-extensions>=3.7.4.3 in /usr/local/lib/python3.9/dist-packages (from huggingface-hub<1.0,>=0.11.0->transformers) (4.5.0)\n",
            "Requirement already satisfied: chardet<5,>=3.0.2 in /usr/local/lib/python3.9/dist-packages (from requests->transformers) (4.0.0)\n",
            "Requirement already satisfied: idna<3,>=2.5 in /usr/local/lib/python3.9/dist-packages (from requests->transformers) (2.10)\n",
            "Requirement already satisfied: urllib3<1.27,>=1.21.1 in /usr/local/lib/python3.9/dist-packages (from requests->transformers) (1.26.14)\n",
            "Requirement already satisfied: certifi>=2017.4.17 in /usr/local/lib/python3.9/dist-packages (from requests->transformers) (2022.12.7)\n",
            "Installing collected packages: tokenizers, huggingface-hub, transformers\n",
            "Successfully installed huggingface-hub-0.13.1 tokenizers-0.13.2 transformers-4.26.1\n"
          ]
        }
      ]
    },
    {
      "cell_type": "code",
      "source": [
        "from transformers import pipeline\n",
        "import numpy as np\n",
        "classifier = pipeline(\"zero-shot-classification\", device=0)"
      ],
      "metadata": {
        "colab": {
          "base_uri": "https://localhost:8080/"
        },
        "id": "T1tjdYU4mmEk",
        "outputId": "fb879594-7198-4d57-fd7b-648924bcff0b"
      },
      "execution_count": 4,
      "outputs": [
        {
          "output_type": "stream",
          "name": "stderr",
          "text": [
            "No model was supplied, defaulted to facebook/bart-large-mnli and revision c626438 (https://huggingface.co/facebook/bart-large-mnli).\n",
            "Using a pipeline without specifying a model name and revision in production is not recommended.\n"
          ]
        }
      ]
    },
    {
      "cell_type": "code",
      "source": [
        "Tweetlist = list(df_elon['tweet'])\n",
        "\n",
        "candiadte_labels = ['positive','neutral','negative']\n",
        "output_elon = classifier(Tweetlist, candiadte_labels)\n"
      ],
      "metadata": {
        "id": "UN5GyBxolY-U"
      },
      "execution_count": 5,
      "outputs": []
    },
    {
      "cell_type": "code",
      "source": [
        "len(output_elon)"
      ],
      "metadata": {
        "colab": {
          "base_uri": "https://localhost:8080/"
        },
        "id": "NB6hb68bqQzb",
        "outputId": "7e850478-0113-418c-8b06-4be9e843d6eb"
      },
      "execution_count": 142,
      "outputs": [
        {
          "output_type": "execute_result",
          "data": {
            "text/plain": [
              "951"
            ]
          },
          "metadata": {},
          "execution_count": 142
        }
      ]
    },
    {
      "cell_type": "code",
      "source": [
        "#Just an example of all the 951 tweets:\n",
        "output_elon[0:10]"
      ],
      "metadata": {
        "colab": {
          "base_uri": "https://localhost:8080/"
        },
        "id": "9GRZjuGJqFkd",
        "outputId": "a56bed01-a443-4ee3-a40c-289adaf2ec9e"
      },
      "execution_count": 141,
      "outputs": [
        {
          "output_type": "execute_result",
          "data": {
            "text/plain": [
              "[{'sequence': '@TheRabbitHole84 !',\n",
              "  'labels': ['positive', 'negative', 'neutral'],\n",
              "  'scores': [0.7650752067565918, 0.18303188681602478, 0.05189292132854462]},\n",
              " {'sequence': '@ShellenbergerMD Very entertaining 🤣',\n",
              "  'labels': ['positive', 'negative', 'neutral'],\n",
              "  'scores': [0.7543359398841858, 0.1397538036108017, 0.1059102714061737]},\n",
              " {'sequence': '@BillyM2k He studied the blade',\n",
              "  'labels': ['positive', 'neutral', 'negative'],\n",
              "  'scores': [0.4219987094402313, 0.3409610092639923, 0.23704032599925995]},\n",
              " {'sequence': '@JonathanTurley Wow',\n",
              "  'labels': ['positive', 'negative', 'neutral'],\n",
              "  'scores': [0.7934388518333435, 0.11084993928670883, 0.09571126848459244]},\n",
              " {'sequence': '@allgarbled 😂',\n",
              "  'labels': ['negative', 'neutral', 'positive'],\n",
              "  'scores': [0.9489966630935669, 0.0373486690223217, 0.013654639013111591]},\n",
              " {'sequence': '@Teslaconomics https://t.co/gBOq3Yp1yH',\n",
              "  'labels': ['positive', 'neutral', 'negative'],\n",
              "  'scores': [0.5711160898208618, 0.22246728837490082, 0.20641663670539856]},\n",
              " {'sequence': '@Teslaconomics Arabesque',\n",
              "  'labels': ['positive', 'negative', 'neutral'],\n",
              "  'scores': [0.7467333674430847, 0.15323138236999512, 0.10003522783517838]},\n",
              " {'sequence': '@ZubyMusic 💯',\n",
              "  'labels': ['positive', 'negative', 'neutral'],\n",
              "  'scores': [0.9169766902923584, 0.07481813430786133, 0.008205162361264229]},\n",
              " {'sequence': '@bariweiss @ShellenbergerMD @mtaibbi Hall-of-Famer',\n",
              "  'labels': ['positive', 'negative', 'neutral'],\n",
              "  'scores': [0.755083441734314, 0.1497529000043869, 0.09516366571187973]},\n",
              " {'sequence': '@WallStreetSilv The gerontocracy is real',\n",
              "  'labels': ['negative', 'positive', 'neutral'],\n",
              "  'scores': [0.8211308717727661, 0.10591055452823639, 0.07295854389667511]}]"
            ]
          },
          "metadata": {},
          "execution_count": 141
        }
      ]
    },
    {
      "cell_type": "markdown",
      "source": [
        "Perfect! Now we have scores of each category for each tweet. If we average these scores per categiry across tweets, we have gained a measure to analyze the account itself within that period. Let's see: "
      ],
      "metadata": {
        "id": "3k-_yNpRpXYk"
      }
    },
    {
      "cell_type": "code",
      "source": [
        "import matplotlib.pyplot as plt\n",
        "import seaborn as sns\n",
        "sns.set()"
      ],
      "metadata": {
        "id": "8X3dbesYGBcZ"
      },
      "execution_count": 33,
      "outputs": []
    },
    {
      "cell_type": "code",
      "source": [
        "\n",
        "avg_score_elon = [0,0,0]\n",
        "for i in range(0,len(output_elon)):\n",
        "  avg_score_elon = np.array(output_elon[i]['scores'])+avg_score_elon\n",
        "\n",
        "\n",
        "plt.bar(x=candiadte_labels, height=100* avg_score_elon/len(output_elon))\n",
        "plt.yticks(list(np.arange(0,100,10)))\n",
        "plt.xticks(rotation = 45)\n",
        "plt.title(\"\\nSentiment analysis of Elon Musk Twitter Account\\n\\n\", fontsize = 14, fontweight = 'bold')\n",
        "plt.ylabel(\"Percentage\")\n",
        "plt.show()"
      ],
      "metadata": {
        "colab": {
          "base_uri": "https://localhost:8080/",
          "height": 365
        },
        "id": "_P4AxLxbpWj-",
        "outputId": "26225f1b-c492-4024-fa30-b7b6e1737dc1"
      },
      "execution_count": 36,
      "outputs": [
        {
          "output_type": "display_data",
          "data": {
            "text/plain": [
              "<Figure size 432x288 with 1 Axes>"
            ],
            "image/png": "[encoded data removed]"
          },
          "metadata": {}
        }
      ]
    },
    {
      "cell_type": "markdown",
      "source": [
        "Quite positive! Let's now look at the replies. I limitated them to 5000 tweets due to computational load but we can simply remove the limitation."
      ],
      "metadata": {
        "id": "w0NCP8qghLa4"
      }
    },
    {
      "cell_type": "markdown",
      "source": [
        "#### 1.2.2. Tweet Replies"
      ],
      "metadata": {
        "id": "-emkT1YGwTxx"
      }
    },
    {
      "cell_type": "code",
      "source": [
        "import pandas as pd\n",
        "query = '(to:elonmusk) until:2023-03-10- since:2023-02-01'\n",
        "limit = 5000\n",
        "tweets = []\n",
        "for tweet in sntwitter.TwitterSearchScraper(query).get_items():\n",
        "  #print(vars(tweet))\n",
        "  #break\n",
        "  if len(tweets)==limit:\n",
        "    break\n",
        "  else:\n",
        "    tweets.append([tweet.date, tweet.user.username, tweet.content])\n",
        "  \n",
        "  df = pd.DataFrame(tweets,columns = ['date','username','tweet'])"
      ],
      "metadata": {
        "id": "_KwFMlmvePIQ",
        "colab": {
          "base_uri": "https://localhost:8080/"
        },
        "outputId": "c8317419-74eb-41fd-b0ed-a5f12f4ab013"
      },
      "execution_count": 86,
      "outputs": [
        {
          "output_type": "stream",
          "name": "stderr",
          "text": [
            "<ipython-input-86-1ab127b8f4e0>:11: DeprecatedFeatureWarning: content is deprecated, use rawContent instead\n",
            "  tweets.append([tweet.date, tweet.user.username, tweet.content])\n"
          ]
        }
      ]
    },
    {
      "cell_type": "code",
      "source": [
        "df"
      ],
      "metadata": {
        "colab": {
          "base_uri": "https://localhost:8080/",
          "height": 423
        },
        "id": "1ja-fUubtobn",
        "outputId": "f5778fd6-0e6b-4e0f-c22f-10e2e5802a2d"
      },
      "execution_count": 87,
      "outputs": [
        {
          "output_type": "execute_result",
          "data": {
            "text/plain": [
              "                          date         username  \\\n",
              "0    2023-03-09 23:59:59+00:00         NMinakhi   \n",
              "1    2023-03-09 23:59:58+00:00  adanwachinemelu   \n",
              "2    2023-03-09 23:59:56+00:00       bsizzlehbg   \n",
              "3    2023-03-09 23:59:56+00:00      ShaunThom79   \n",
              "4    2023-03-09 23:59:56+00:00  DecentralizeADA   \n",
              "...                        ...              ...   \n",
              "4995 2023-03-09 22:56:54+00:00      JasonErhard   \n",
              "4996 2023-03-09 22:56:52+00:00      LisaMarieB2   \n",
              "4997 2023-03-09 22:56:50+00:00        LuckasNFT   \n",
              "4998 2023-03-09 22:56:50+00:00        lopatonok   \n",
              "4999 2023-03-09 22:56:50+00:00     graffanati19   \n",
              "\n",
              "                                                  tweet  \n",
              "0                          @elonmusk @KanekoaTheGreat 💯  \n",
              "1     @elonmusk @MattWallace888 @iheartmindy @SenSch...  \n",
              "2     @elonmusk @MattWallace888 @iheartmindy @SenSch...  \n",
              "3     @elonmusk @cb_doge Sorry we need a higher stan...  \n",
              "4     @elonmusk @CollinRugg The democrats are so fri...  \n",
              "...                                                 ...  \n",
              "4995             @elonmusk @CollinRugg Not cool at all!  \n",
              "4996                                @elonmusk Beautiful  \n",
              "4997  @elonmusk and if you find one of these there? ...  \n",
              "4998  @elonmusk Wishing a happy burning! From the st...  \n",
              "4999  @elonmusk Why you trying to pierce the firmame...  \n",
              "\n",
              "[5000 rows x 3 columns]"
            ],
            "text/html": [
              "\n",
              "  <div id=\"df-7b48241b-4dae-4675-9680-ba6dc2f931c4\">\n",
              "    <div class=\"colab-df-container\">\n",
              "      <div>\n",
              "<style scoped>\n",
              "    .dataframe tbody tr th:only-of-type {\n",
              "        vertical-align: middle;\n",
              "    }\n",
              "\n",
              "    .dataframe tbody tr th {\n",
              "        vertical-align: top;\n",
              "    }\n",
              "\n",
              "    .dataframe thead th {\n",
              "        text-align: right;\n",
              "    }\n",
              "</style>\n",
              "<table border=\"1\" class=\"dataframe\">\n",
              "  <thead>\n",
              "    <tr style=\"text-align: right;\">\n",
              "      <th></th>\n",
              "      <th>date</th>\n",
              "      <th>username</th>\n",
              "      <th>tweet</th>\n",
              "    </tr>\n",
              "  </thead>\n",
              "  <tbody>\n",
              "    <tr>\n",
              "      <th>0</th>\n",
              "      <td>2023-03-09 23:59:59+00:00</td>\n",
              "      <td>NMinakhi</td>\n",
              "      <td>@elonmusk @KanekoaTheGreat 💯</td>\n",
              "    </tr>\n",
              "    <tr>\n",
              "      <th>1</th>\n",
              "      <td>2023-03-09 23:59:58+00:00</td>\n",
              "      <td>adanwachinemelu</td>\n",
              "      <td>@elonmusk @MattWallace888 @iheartmindy @SenSch...</td>\n",
              "    </tr>\n",
              "    <tr>\n",
              "      <th>2</th>\n",
              "      <td>2023-03-09 23:59:56+00:00</td>\n",
              "      <td>bsizzlehbg</td>\n",
              "      <td>@elonmusk @MattWallace888 @iheartmindy @SenSch...</td>\n",
              "    </tr>\n",
              "    <tr>\n",
              "      <th>3</th>\n",
              "      <td>2023-03-09 23:59:56+00:00</td>\n",
              "      <td>ShaunThom79</td>\n",
              "      <td>@elonmusk @cb_doge Sorry we need a higher stan...</td>\n",
              "    </tr>\n",
              "    <tr>\n",
              "      <th>4</th>\n",
              "      <td>2023-03-09 23:59:56+00:00</td>\n",
              "      <td>DecentralizeADA</td>\n",
              "      <td>@elonmusk @CollinRugg The democrats are so fri...</td>\n",
              "    </tr>\n",
              "    <tr>\n",
              "      <th>...</th>\n",
              "      <td>...</td>\n",
              "      <td>...</td>\n",
              "      <td>...</td>\n",
              "    </tr>\n",
              "    <tr>\n",
              "      <th>4995</th>\n",
              "      <td>2023-03-09 22:56:54+00:00</td>\n",
              "      <td>JasonErhard</td>\n",
              "      <td>@elonmusk @CollinRugg Not cool at all!</td>\n",
              "    </tr>\n",
              "    <tr>\n",
              "      <th>4996</th>\n",
              "      <td>2023-03-09 22:56:52+00:00</td>\n",
              "      <td>LisaMarieB2</td>\n",
              "      <td>@elonmusk Beautiful</td>\n",
              "    </tr>\n",
              "    <tr>\n",
              "      <th>4997</th>\n",
              "      <td>2023-03-09 22:56:50+00:00</td>\n",
              "      <td>LuckasNFT</td>\n",
              "      <td>@elonmusk and if you find one of these there? ...</td>\n",
              "    </tr>\n",
              "    <tr>\n",
              "      <th>4998</th>\n",
              "      <td>2023-03-09 22:56:50+00:00</td>\n",
              "      <td>lopatonok</td>\n",
              "      <td>@elonmusk Wishing a happy burning! From the st...</td>\n",
              "    </tr>\n",
              "    <tr>\n",
              "      <th>4999</th>\n",
              "      <td>2023-03-09 22:56:50+00:00</td>\n",
              "      <td>graffanati19</td>\n",
              "      <td>@elonmusk Why you trying to pierce the firmame...</td>\n",
              "    </tr>\n",
              "  </tbody>\n",
              "</table>\n",
              "<p>5000 rows × 3 columns</p>\n",
              "</div>\n",
              "      <button class=\"colab-df-convert\" onclick=\"convertToInteractive('df-7b48241b-4dae-4675-9680-ba6dc2f931c4')\"\n",
              "              title=\"Convert this dataframe to an interactive table.\"\n",
              "              style=\"display:none;\">\n",
              "        \n",
              "  <svg xmlns=\"http://www.w3.org/2000/svg\" height=\"24px\"viewBox=\"0 0 24 24\"\n",
              "       width=\"24px\">\n",
              "    <path d=\"M0 0h24v24H0V0z\" fill=\"none\"/>\n",
              "    <path d=\"M18.56 5.44l.94 2.06.94-2.06 2.06-.94-2.06-.94-.94-2.06-.94 2.06-2.06.94zm-11 1L8.5 8.5l.94-2.06 2.06-.94-2.06-.94L8.5 2.5l-.94 2.06-2.06.94zm10 10l.94 2.06.94-2.06 2.06-.94-2.06-.94-.94-2.06-.94 2.06-2.06.94z\"/><path d=\"M17.41 7.96l-1.37-1.37c-.4-.4-.92-.59-1.43-.59-.52 0-1.04.2-1.43.59L10.3 9.45l-7.72 7.72c-.78.78-.78 2.05 0 2.83L4 21.41c.39.39.9.59 1.41.59.51 0 1.02-.2 1.41-.59l7.78-7.78 2.81-2.81c.8-.78.8-2.07 0-2.86zM5.41 20L4 18.59l7.72-7.72 1.47 1.35L5.41 20z\"/>\n",
              "  </svg>\n",
              "      </button>\n",
              "      \n",
              "  <style>\n",
              "    .colab-df-container {\n",
              "      display:flex;\n",
              "      flex-wrap:wrap;\n",
              "      gap: 12px;\n",
              "    }\n",
              "\n",
              "    .colab-df-convert {\n",
              "      background-color: #E8F0FE;\n",
              "      border: none;\n",
              "      border-radius: 50%;\n",
              "      cursor: pointer;\n",
              "      display: none;\n",
              "      fill: #1967D2;\n",
              "      height: 32px;\n",
              "      padding: 0 0 0 0;\n",
              "      width: 32px;\n",
              "    }\n",
              "\n",
              "    .colab-df-convert:hover {\n",
              "      background-color: #E2EBFA;\n",
              "      box-shadow: 0px 1px 2px rgba(60, 64, 67, 0.3), 0px 1px 3px 1px rgba(60, 64, 67, 0.15);\n",
              "      fill: #174EA6;\n",
              "    }\n",
              "\n",
              "    [theme=dark] .colab-df-convert {\n",
              "      background-color: #3B4455;\n",
              "      fill: #D2E3FC;\n",
              "    }\n",
              "\n",
              "    [theme=dark] .colab-df-convert:hover {\n",
              "      background-color: #434B5C;\n",
              "      box-shadow: 0px 1px 3px 1px rgba(0, 0, 0, 0.15);\n",
              "      filter: drop-shadow(0px 1px 2px rgba(0, 0, 0, 0.3));\n",
              "      fill: #FFFFFF;\n",
              "    }\n",
              "  </style>\n",
              "\n",
              "      <script>\n",
              "        const buttonEl =\n",
              "          document.querySelector('#df-7b48241b-4dae-4675-9680-ba6dc2f931c4 button.colab-df-convert');\n",
              "        buttonEl.style.display =\n",
              "          google.colab.kernel.accessAllowed ? 'block' : 'none';\n",
              "\n",
              "        async function convertToInteractive(key) {\n",
              "          const element = document.querySelector('#df-7b48241b-4dae-4675-9680-ba6dc2f931c4');\n",
              "          const dataTable =\n",
              "            await google.colab.kernel.invokeFunction('convertToInteractive',\n",
              "                                                     [key], {});\n",
              "          if (!dataTable) return;\n",
              "\n",
              "          const docLinkHtml = 'Like what you see? Visit the ' +\n",
              "            '<a target=\"_blank\" href=https://colab.research.google.com/notebooks/data_table.ipynb>data table notebook</a>'\n",
              "            + ' to learn more about interactive tables.';\n",
              "          element.innerHTML = '';\n",
              "          dataTable['output_type'] = 'display_data';\n",
              "          await google.colab.output.renderOutput(dataTable, element);\n",
              "          const docLink = document.createElement('div');\n",
              "          docLink.innerHTML = docLinkHtml;\n",
              "          element.appendChild(docLink);\n",
              "        }\n",
              "      </script>\n",
              "    </div>\n",
              "  </div>\n",
              "  "
            ]
          },
          "metadata": {},
          "execution_count": 87
        }
      ]
    },
    {
      "cell_type": "code",
      "source": [
        "Tweetlist = list(df['tweet'])\n",
        "\n",
        "candiadte_labels = ['positive','neutral','negative']\n",
        "output_toelon = classifier(Tweetlist, candiadte_labels)\n"
      ],
      "metadata": {
        "id": "wUiK1dtrtyeC"
      },
      "execution_count": 88,
      "outputs": []
    },
    {
      "cell_type": "markdown",
      "source": [
        "Here, we can we how positive or negative the tweet replies are: "
      ],
      "metadata": {
        "id": "h1QYTuh4zXJF"
      }
    },
    {
      "cell_type": "code",
      "source": [
        "# just some examples of the replies\n",
        "output_toelon[0:10]"
      ],
      "metadata": {
        "colab": {
          "base_uri": "https://localhost:8080/"
        },
        "id": "rQW8sinAu8WE",
        "outputId": "c62731b1-79f1-4b9c-a097-3bdaafeef1f4"
      },
      "execution_count": 143,
      "outputs": [
        {
          "output_type": "execute_result",
          "data": {
            "text/plain": [
              "[{'sequence': '@elonmusk @KanekoaTheGreat 💯',\n",
              "  'labels': ['positive', 'neutral', 'negative'],\n",
              "  'scores': [0.9775401949882507, 0.013762849383056164, 0.008696925826370716]},\n",
              " {'sequence': \"@elonmusk @MattWallace888 @iheartmindy @SenSchumer Completely unjust! 😠\\n\\nI hope that now that the actual truth is gradually coming out, the Justice System will do something for him. There's a need for them to look at his case again, grant him a reduction in his sentence, or better still free him and go after the real culprits 😒\",\n",
              "  'labels': ['negative', 'neutral', 'positive'],\n",
              "  'scores': [0.9906444549560547, 0.005528066772967577, 0.003827453590929508]},\n",
              " {'sequence': '@elonmusk @MattWallace888 @iheartmindy @SenSchumer Our government is run by neo Leninist criminal. Don’t expect justice, expect another holodomor.',\n",
              "  'labels': ['negative', 'neutral', 'positive'],\n",
              "  'scores': [0.9858662486076355, 0.009153074584901333, 0.004980669356882572]},\n",
              " {'sequence': '@elonmusk @cb_doge Sorry we need a higher standard for what can be shared as news, opinions need to have shows that say opinion NOT NEWS at all times. FCC Guideline’s need to hold these fake news accountable. Stop the spread of misinformation and disinformation!!!!!',\n",
              "  'labels': ['negative', 'neutral', 'positive'],\n",
              "  'scores': [0.9313710927963257, 0.03925211727619171, 0.02937679924070835]},\n",
              " {'sequence': '@elonmusk @CollinRugg The democrats are so fricken desperate all over the place surrounding every topic. What are they so afraid of? What the hell are they guilty of? It’s so obvious.',\n",
              "  'labels': ['negative', 'neutral', 'positive'],\n",
              "  'scores': [0.8935992121696472, 0.062095604836940765, 0.04430520534515381]},\n",
              " {'sequence': '@elonmusk @cb_doge Answer = federal control of  schools.',\n",
              "  'labels': ['negative', 'positive', 'neutral'],\n",
              "  'scores': [0.7162758708000183, 0.18092361092567444, 0.10280048847198486]},\n",
              " {'sequence': '@elonmusk @anothercohen False',\n",
              "  'labels': ['negative', 'neutral', 'positive'],\n",
              "  'scores': [0.9849771857261658, 0.013335438445210457, 0.0016873665153980255]},\n",
              " {'sequence': '@elonmusk @SenSchumer Is this you Chuck 🤔🤔🤔 https://t.co/yBJgENo0zu',\n",
              "  'labels': ['negative', 'neutral', 'positive'],\n",
              "  'scores': [0.9653904438018799, 0.019677497446537018, 0.0149320587515831]},\n",
              " {'sequence': '@elonmusk You want to fire yourself? Incredible!😂',\n",
              "  'labels': ['negative', 'positive', 'neutral'],\n",
              "  'scores': [0.96396803855896, 0.02176012098789215, 0.014271854422986507]},\n",
              " {'sequence': '@elonmusk @techbubble @Twitter 😆😆 So well played…',\n",
              "  'labels': ['positive', 'neutral', 'negative'],\n",
              "  'scores': [0.9818533062934875, 0.011831298470497131, 0.006315438076853752]}]"
            ]
          },
          "metadata": {},
          "execution_count": 143
        }
      ]
    },
    {
      "cell_type": "markdown",
      "source": [
        "Now, lets have a look at the sentiment analysis of the overal audience. Do we expect Elon's audience to be positive, neutral or negative?"
      ],
      "metadata": {
        "id": "YbaLdgXbzgu0"
      }
    },
    {
      "cell_type": "code",
      "source": [
        "avg_score_toelon = [0,0,0]\n",
        "for i in range(0,len(output_toelon)):\n",
        "  avg_score_toelon = np.array(output_toelon[i]['scores'])+avg_score_toelon\n",
        "\n",
        "\n",
        "plt.bar(x=candiadte_labels, height=100* avg_score_toelon/len(output_toelon))\n",
        "plt.yticks(list(np.arange(0,100,10)))\n",
        "plt.xticks(rotation = 45)\n",
        "plt.title(\"\\nSentiment analysis of replies to Elon's Tweets\\n\\n\", fontsize = 14, fontweight = 'bold')\n",
        "plt.ylabel(\"Percentage\")\n",
        "plt.show()"
      ],
      "metadata": {
        "colab": {
          "base_uri": "https://localhost:8080/",
          "height": 365
        },
        "id": "6OAjbH2VvBBR",
        "outputId": "7edc6a56-80b3-4876-a9c3-713962436718"
      },
      "execution_count": 90,
      "outputs": [
        {
          "output_type": "display_data",
          "data": {
            "text/plain": [
              "<Figure size 432x288 with 1 Axes>"
            ],
            "image/png": "[encoded data removed]"
          },
          "metadata": {}
        }
      ]
    },
    {
      "cell_type": "markdown",
      "source": [
        "Done!\n",
        "Honestly, more positive than I thought!\n",
        "\n",
        "Ok, now, lets find out the most active followers from the replies. \n",
        "\n",
        "---\n",
        "\n"
      ],
      "metadata": {
        "id": "eu7XFVhRvQVh"
      }
    },
    {
      "cell_type": "code",
      "source": [
        "Followers = list(df['username'])"
      ],
      "metadata": {
        "id": "1gHfGNHY1ll1"
      },
      "execution_count": null,
      "outputs": []
    },
    {
      "cell_type": "code",
      "source": [
        "#this function returns the first 5 accounts with the highest number of replies.\n",
        "def findfollowers(orig_list):\n",
        "  counts = {}\n",
        "  for i in orig_list:\n",
        "    if i in counts:\n",
        "      counts[i] += 1\n",
        "    else:\n",
        "      counts[i] = 1\n",
        "  follist = [k for k, v in sorted(counts.items(), key=lambda item: item[1], reverse=True)[:5]]\n",
        "  return follist\n"
      ],
      "metadata": {
        "id": "jdYAiMcq3cGh"
      },
      "execution_count": 92,
      "outputs": []
    },
    {
      "cell_type": "code",
      "source": [
        "Active_Followers = Followers.copy()\n",
        "Active_Followers = findfollowers(Active_Followers)\n",
        "print(\"Active_Followers:\\n\")\n",
        "pprint.pprint(Active_Followers)"
      ],
      "metadata": {
        "colab": {
          "base_uri": "https://localhost:8080/"
        },
        "id": "HSy20ZNB3x7m",
        "outputId": "a8abc864-09a7-49bd-9745-108d9373546e"
      },
      "execution_count": 94,
      "outputs": [
        {
          "output_type": "stream",
          "name": "stdout",
          "text": [
            "Active_Followers:\n",
            "\n",
            "['RobertJRussell7',\n",
            " 'adanwachinemelu',\n",
            " 'Yevgeni40658250',\n",
            " 'DavidDesruisse3',\n",
            " 'marisafromearth']\n"
          ]
        }
      ]
    },
    {
      "cell_type": "markdown",
      "source": [
        "Pretty cool!\n",
        "Now, lets summarize Elon's Tweets:"
      ],
      "metadata": {
        "id": "EWLjtpLvh1EO"
      }
    },
    {
      "cell_type": "markdown",
      "source": [
        "### 1.3. Account Summarization\n",
        "\n",
        "For summarization,  we use a large language model (t5-large) using the sweet Huggingface API.\n"
      ],
      "metadata": {
        "id": "SiLIGWfi1IC7"
      }
    },
    {
      "cell_type": "code",
      "source": [
        "summarizer = pipeline('summarization', model='t5-large')"
      ],
      "metadata": {
        "colab": {
          "base_uri": "https://localhost:8080/"
        },
        "id": "bPiPq-N6wFEK",
        "outputId": "f2888153-3599-4879-f22e-387f36213189"
      },
      "execution_count": 6,
      "outputs": [
        {
          "output_type": "stream",
          "name": "stderr",
          "text": [
            "/usr/local/lib/python3.9/dist-packages/transformers/models/t5/tokenization_t5_fast.py:155: FutureWarning: This tokenizer was incorrectly instantiated with a model max length of 512 which will be corrected in Transformers v5.\n",
            "For now, this behavior is kept to avoid breaking backwards compatibility when padding/encoding with `truncation is True`.\n",
            "- Be aware that you SHOULD NOT rely on t5-large automatically truncating your input to 512 when padding/encoding.\n",
            "- If you want to encode/pad to sequences longer than 512 you can either instantiate this tokenizer with `model_max_length` or pass `max_length` when encoding/padding.\n",
            "- To avoid this warning, please instantiate this tokenizer with `model_max_length` set to your preferred value.\n",
            "  warnings.warn(\n"
          ]
        }
      ]
    },
    {
      "cell_type": "code",
      "source": [
        "# Concatenate the text of all the tweets\n",
        "alltext_elon = \"\"\n",
        "for tweet in Tweetlist:\n",
        "    alltext_elon += tweet"
      ],
      "metadata": {
        "id": "n9nxl1twk0E-"
      },
      "execution_count": 7,
      "outputs": []
    },
    {
      "cell_type": "markdown",
      "source": [
        "The model is designed for an input of 512 and due to a very large input size, it crashes if all tweets are used as input. Therefore, I am breaking it to a number of chunks with a length of 1024. The result would be a number of summaries, one for each chunk.\n",
        "Then I again apply the summarization to the resulting contactenated text to get the final summary.  "
      ],
      "metadata": {
        "id": "_0tC5AA_hzUF"
      }
    },
    {
      "cell_type": "code",
      "source": [
        "import math\n",
        "chunk_size = 1024\n",
        "num_chunks = math.ceil(len(alltext_elon) / chunk_size)\n",
        "chunks = [alltext_elon[i:i+chunk_size] for i in range(0, len(alltext_elon), chunk_size)]\n"
      ],
      "metadata": {
        "id": "Z44QaQBCg2X-"
      },
      "execution_count": 11,
      "outputs": []
    },
    {
      "cell_type": "code",
      "source": [
        "# Summarize each chunk separately and concatenate the summaries\n",
        "summary = \"\"\n",
        "for chunk in chunks:\n",
        "    chunk_summary = summarizer(chunk, max_length=150, min_length=20, do_sample=False)[0][\"summary_text\"]\n",
        "    summary += chunk_summary.strip() + \" \""
      ],
      "metadata": {
        "id": "wIZ6V47ehBe9"
      },
      "execution_count": 15,
      "outputs": []
    },
    {
      "cell_type": "code",
      "source": [
        "summary"
      ],
      "metadata": {
        "colab": {
          "base_uri": "https://localhost:8080/",
          "height": 192
        },
        "id": "9RYsf2Xnl4gj",
        "outputId": "f2854880-96dd-4781-e29a-eabe39c38c15"
      },
      "execution_count": 16,
      "outputs": [
        {
          "output_type": "execute_result",
          "data": {
            "text/plain": [
              "\"@ShellenbergerMD Very entertaining @BillyM2k He studied the blade @JonathanTurley Wow@allgarbled @Teslaconomics Arabesque@ZubyMusic @jowualife @wholemarsblog @micsolana @drjbhattacharya Absolutely @ID_AA_Carmack @ggreenwald I think we should listen carefully to DWS, given that she is such an expert in ethics violations  she was forced to heir bidding as a collective NPC hivemind!?https://t.co/IYlRo3fd59 @CollinRugg I’m not his source, but, yeah, obviously asking journalists to reveal sources is not cool @micsolana Good thing LAT has “real” journalists @alx @ShellenbergerMD Great work! this is *actually* important for the health of our democracy . @TheBabylonBee @BillyM2k @WallStreetSilv Population collapse is the biggest threat to civilization@ZubyMusic We are running out of “conspiracies” that turned out to be true! @Westcoastbill V11 is a major step change improvement. iamharaldur: i also apologize to everyone named Alex in this . it was based on things i was told that were untrue or, in some cases, true but not meaningful . he is considering remaining at twitter . this pervasive cultural pessimism is at the heart of societal dysfunction . better to be optimistic and wrong, rather than optimistic and right . @anothercohen was he fired? No, you can’t be fired if you weren’t working in the first place! uy (who is independently wealthy) did no actual work, claimed as his excuse that he had a disability that prevented him from typing, yet was simultaneously tweeting up a storm. @greg_price11 Wow. The public was misled. @browserdotsys  @iamharaldur - level up from what design to what? - we haven’t hired design roles in 4 months - what changes did you make to help with the youths? accounts engaging in repeated, egregious weaponization of DMCA on twitter will receive temporary suspensions . account owners should be able to monetize their content in the first place . people need to make a living and prosper from their work . @dogeofficialceo @BillyM2k @LGElectronics We’re working on it! @pmarca A small API change had massive ramifications . the code stack is extremely brittle for no good reason. will ultimately need a complete rewrite. s messed up and will not make a difference to climate! @collinrugg If an organization portrays itself as balanced, but is not, it should be labeled to inform the public. @foxnews This is extremely unfair to anyone with XX chromosomes! @BillyM2k @BBCWorld Literally roflmao ... @CommunityNotes Major asset on the side of truth &amp; accuracy! @anammostarac @unusual_whales BIhttps://t.co/Qo6K6E1KkY @chicago_glenn It is inspiring to think that humans did that! @potus what about fun? i say vote for more fun! @ @Resist_05 i’m super pro climate, but we definitely don’t need to put farmers out of work to solve climate change. not at all.https://t.co/Gegpl5sjHT@CatherinScience @ZubyMusic @DanielHadas2  @zubymusic But at least we give a megaphone. @CommunityNotes @BillyM2k @michiganstateu @rainmaker1973 17k rpm rotor – wowSomething should be done https://t.co/17mp4XdMI0 @pmarca Not much useful originality with AI yet@billym2k 169 mT to orbit this year so far“I used to be in crypto, but now I got interested in AI”@scottadamssays Twitter is where the writers &amp; leaders spend their time . @Teslaconomics Cybertruck cruisers will be next-level . twice as many people died in japan last year as were born . s incorrectly flagged as impersonation, which is not totally crazy, since it is based@pmarca Once you acknowledge that alcohol is poison, it’s fine to drink a little. @neontaster @Rainmaker1973 Intense@EvaFoxU @SawyerMerritt What do you call an infinite gear ratio? All torque, no action. @Erdayastronaut Raptor start sequence is @ZubyMusic Looking into ithttps://t.co/4raodvAzSy@BillyM2k !!@AlphaSignalAI Absolutely@Noahpinion Neither side has air superiority &amp; tanks are easily destroyed by missiles, so that leaves infantry & artillery – basically WW1. @ashleevance Changing starlink default wifi name to “FBI-van” on April 1 . if you can’t smell your wifi, how do you know it’s real? @ScottAdamsSays I don’t agree with everything Scott says, but dilbert is legit funny &amp; insightful . @dogeofficialceo Great way to understand to what degree one is wrong, but can aspire to be less so . @fasc1nate @thebabylonbee @billym2k @watcherguru There will be a lot of robots . @davidsacks So few know this . the human part will decrease in relevance over time . @monitoringbias For a *very* long time, us media was racist against non-white people, now they’re racist against whites &amp; Asians . @nbcsnl Nice work!@Rainmaker1973 @TheBabylonBee This thread is the best Doritos ad everhttps://t.co/UAWjEyhe5U @GRDecter Accurate @adamdangelo @ lo Why can’t witchcraft defeat inflation!?@pmarca @gurgavin Munger could’ve invested in Tesla at $200M valuation when I had lunch with him in late 2008 . https://t.co/nBq4YHkaK4Disturbingly accurate@cb_doge @BillyM2k @JustinScerini Tumblr especially@DomitrosH @WholeMarsBlog tion or defeating the british ... ?Inflation Reduction Act (IRA) vs Irish Republican Army (IRA). rge account that posted anything “controversial” was...@BillyM2k @dogeofficialceo This can’t be real@ilove_aviation A380 looks like it already ate a few 737’s@stillgray @RalphNader Ralph Nader, you are lying – shame on you! @kcoleman Cool@billym2k !!@Teslaconomics Death threats should result in immediate account suspension a russia-china alliance is inevitable. it will grow much stronger over time . there are no pure angels in war. beware those who say they are . @farzyness Crazy theory – maybe I’m just centrist? also, when did free speech become right-wing? w rich, influential hypochondriacs! @tesla Definitely one of the best parties ever in palo alto @trungTPhan @TrungTPan  @Gfilche Definitely a major influence on me@MuskUniversity Did all that masonry for free was not a sustainable business model! @realchrisrufo A major restructuring of the Federal government requires an act of Congress . many go woke for the moral cloak@mtaibbi Why @RollingStone? @OzraeliAvi Well-said@WallStreetSilv This is not good @Wallstreetsilv The stakes are high @St_Rev Anyone against critical thinking cannot be regarded with any credibility at all @pmarca Wow@unusual_whales !!@FreeBeacon @alanagoodman !! @ @dsmart Prepare to be disappointed at first when our algorithm is made open source next week . @dogeofficialceo !!Say what you want, but i acquired the world’s largest non-profit for $44B lol@liron @ESYudkowsky @BanklessHQ Ok, so what should we do? @martijnBAARDA The main reason Rome won was because they had the best engineering . @davidad i was one of those who incorrectly thought incarceration rates had increased . such a big decrease is surprising to learn . @paulg @liv_boeree ideal air conditioner should optimize temperature &amp; humidity . next update will allow much longer tweets with basic formatting . we’re also spinning up subscriptions, so you can charge people for some content and they can easily pay with one click. op walking dead ur welcome https://t.co/4HgUSONvzw@teslaownersSV The finest in apocalypse defense technology! @velvetcrowes_ Feels like a long time ago @Chad_Hurley . free speech is the bedrock of democracy. it is a fundamental defense against autocracy &amp; statism . @BillyM2k @greg_price11 Commercial airlines in the us are much safer per mile traveled than trains (or cars)Second launch today@TitterTakeover Yup@greg_Price11 Tragic. i hope SF comes back from this emptiness. @boo Never seen anything so messed up. wish it wasn't. Almost nobody buys anything on twitter, but almost everyone on Instagram does. that is being fixed. @boo My apologies, you must be a genius. t major upgrades. please expect to see many bugs &amp; silly logic! what matters is showing users compelling content . we will offer the ability to adjust the algorithm to closer match what is most compelling . @jim_jordan This is a major crisis https://t.co/zHr69pRTVR @isaach @TechTreesSDG @agOregon_ @hugowiz Some of twitter’s prior board members had never written a single tweet! @platformer @cb_doge The “source” of the bogus platformer article is an disgruntled employee of platformer . @seamusmacinto twitter will be taking legal action against ee who felt the need to poison the well on the way out . a review of my Tweet likes &amp; views over the past 6 months shows this is false . @GRDecter OpenAI was created as an open source, non-profit company . the amount of solar energy received by earth could power a civilization 100 times larger than ours . stcoastbill !! @sooffy @disclosetv SeriouslyChatGPT to the mainstream media https://t.co/gdqWTsHy14@cgpgrey  @stillgray Who controls the future, controls the present? ily like the AI in system shock that goes haywire &amp; kills everyone“i am perfect, because I do not make any mistakes” Tesla vision AI could really crush these google “not a bot” tests lol @TrungTPhan LEGO is my favorite example of how extreme precision does not need to be expensive . Might need a bit more polish ... https://t.co/rGYCxoBVeA@hoppar_app @spacex @djsnm @ spacex360 @starshipgazer @NASASpaceflight @erdayastronaut @marcushouse @ercxspace Pretty close to what we’re aiming for@alx Seemed like the right venueAbsolutely @cb_doge @billym2k He is @cb_doge I get all my opinions from twitter @WallStreetSilv Low birth rates lead to ghost cities and, eventually, ghost civilizations @minliangtan Turns out we just needed to blow on the cartridge https://t.co/0pLkDOYmLe @WholeMarsBlog . ght Happy Valentine’s Day @TheChiefNerd @mtaibbi @joerogan RIP Cancel Culture, you won’t be missed@ChrisJBakke uh .... “algorithm”@tittertakeover well-said“An empty browser history says more than a full one” – Abraham Lincolnhttps://t.co/92Ny452J9B @TitterTake @cb_doge @daily_stardust NiceWe will prioritize by number of likes times ease of implementation . @sreemoytalukdar Fixing the recommendation algorithm is our current top priority. looking forward to Tesla Investor Day on march 1. spacex commercial terminals, like other commercial products, are meant for private use, not military . twitter is also a competitor to legacy media for news, so they are fundamentally conflicted . starlink is the communication backbone of Ukraine, especially at the front lines . @markusreimer v11.3 (single stack) goes to limited beta this week . Probably 11.3.2 before wide release in north america . twitter is transitioning to using only paid Blue Verified for signals, as otherwise too vulnerable to bot/troll manipulation . ads shown when doing twitter searches don’t consider the search words! s is the fundamental reason why Tesla was the first new american car company to reach sustained positive cash flow since Chrysler 100 years ago . the product has to be compelling enough to overcome a fundamental cost disadvantage . @doritos Try out the doritos pyramid scheme :) @cb_doge @teslasolarroof Beautiful work! @Tesla @SpaceX Top change requests and features?@cb_doge @Twitter @mayemusk @hyundai @teslaownersSV It will change the look of the roads@RiaRevealed Legacy blue checks will be removed soon. Those are the ones that are truly corrupt. the recommendation algorithm should be fixed tomorrow . @wholemarsblog @farzyness  @ZubyMusic Multiple internal &amp; external issues simultaneously today. should be fully back on track later tonight. the practical limit of pi is the number of digits required to measure radius of the universe in units of Planck length . @danielsacks policy against showing blood in profile pic is being amended to “clearly showing blood without clicking” the intent is to avoid people being forced to see gruesome profile pics . @braxton_mccoy @shitpostgate If they really arrested a kid for that, it’s silly. @jackinthebox My bro and I mostly ate at the Palo alto Jack in the Box while building Zip2 . the worst offender in us government censorship &amp; media manipulation is an obscure agency called GEC https://t.co/z6h5975anw@alifarhat79 Maybe that’s what’s masked by the censors. Twitter is definitely not financially healthy yet, but is trending to be so . @Spacex Starlink is not approved by Turkish government yet. Spacex can send as soon as approved . Twitter still has challenges, but is now trending to breakeven if we keep at it . @wealth_theory @gummibear737 @WSJ Top priority for Twitter this week. twitter will enable a light, write-only API for bots providing good content that is free . @teslaownersSV Production will have red light bar@fonsdk @spacex Probably more @BBCBreaking . Twitter will share ad revenue with creators for ads that appear in their reply threads . the program will sunset in a few months . @tobi @trungTPhan @thebabylonbee @erikaawakening @tesla manufactured in california . twitter is being abused badly right now by bot scammers &amp; opinion manipulators . just $100/month for API access with ID verification will clean things greatly . @waitbutwhy @monitoringbias Interesting@leighwolf It is a serious concern@nichegamer Something fundamental is wrong@98CRuE6 We’re also reviewing ad rev share for ads in a creator’s tweet replies – create an interesting thread and get paid . blish directly on twitter &amp; get paid for it . beta version launching next week . @dogeofficialceo @WallStreetSilv @WholeMarsBlog @micsolana @jgebbia @ziontree @wssyme @jcn92977110 . \""
            ],
            "application/vnd.google.colaboratory.intrinsic+json": {
              "type": "string"
            }
          },
          "metadata": {},
          "execution_count": 16
        }
      ]
    },
    {
      "cell_type": "markdown",
      "source": [
        "Now, we have the summary of all "
      ],
      "metadata": {
        "id": "cBVdR7YblNqi"
      }
    },
    {
      "cell_type": "code",
      "source": [
        "account_summary = summarizer(summary, max_length=200, min_length=20, do_sample=False)[0][\"summary_text\"]\n"
      ],
      "metadata": {
        "colab": {
          "base_uri": "https://localhost:8080/"
        },
        "id": "6EsiibvflLNA",
        "outputId": "ebde9759-31ea-49cf-c491-eccfb9fdc2cc"
      },
      "execution_count": 17,
      "outputs": [
        {
          "output_type": "stream",
          "name": "stderr",
          "text": [
            "Token indices sequence length is longer than the specified maximum sequence length for this model (4057 > 512). Running this sequence through the model will result in indexing errors\n"
          ]
        }
      ]
    },
    {
      "cell_type": "code",
      "source": [
        "! pip install pprint\n",
        "import pprint\n",
        "print(\"\\33[1mThe summary of Elon's account is:\\33[0m \\n\")\n",
        "pprint.pprint(account_summary)"
      ],
      "metadata": {
        "colab": {
          "base_uri": "https://localhost:8080/"
        },
        "id": "55x2CtFDmEOp",
        "outputId": "045fe3e1-6d9b-4a14-83b9-7601731d362b"
      },
      "execution_count": 23,
      "outputs": [
        {
          "output_type": "stream",
          "name": "stdout",
          "text": [
            "Looking in indexes: https://pypi.org/simple, https://us-python.pkg.dev/colab-wheels/public/simple/\n",
            "\u001b[31mERROR: Could not find a version that satisfies the requirement pprint (from versions: none)\u001b[0m\u001b[31m\n",
            "\u001b[0m\u001b[31mERROR: No matching distribution found for pprint\u001b[0m\u001b[31m\n",
            "\u001b[0m\u001b[1mThe summary of Elon's account is:\u001b[0m \n",
            "\n",
            "('twitter is not financially healthy yet, but is trending to breakeven if we '\n",
            " 'keep at it . ad revenue sharing with creators for ads that appear in their '\n",
            " 'reply threads will sunset in a few months . twitter is a competitor to '\n",
            " 'legacy media for news, so they are fundamentally conflicted .')\n"
          ]
        }
      ]
    },
    {
      "cell_type": "markdown",
      "source": [
        "Interesting!"
      ],
      "metadata": {
        "id": "Voh9Gdi-ZZ9v"
      }
    },
    {
      "cell_type": "markdown",
      "source": [
        "Now, let's have a look at our second Twitter Account.\n",
        "## 2. Barack Obama\n",
        "### 2.1. Scrapping Tweets"
      ],
      "metadata": {
        "id": "6i4kXWrbvvfI"
      }
    },
    {
      "cell_type": "code",
      "source": [
        "query_barack = '(from:barackobama) until:2023-03-11 since:2023-02-01'\n",
        "limit = 1000\n",
        "tweets_barack = []\n",
        "for tweet in sntwitter.TwitterSearchScraper(query_barack).get_items():\n",
        "  #print(vars(tweet))\n",
        "  #break\n",
        "  if len(tweets_barack)==limit:\n",
        "    break\n",
        "  else:\n",
        "    tweets_barack.append([tweet.date, tweet.user.username, tweet.content])\n",
        "  \n",
        "  df_barack = pd.DataFrame(tweets_barack,columns = ['date','username','tweet'])\n"
      ],
      "metadata": {
        "colab": {
          "base_uri": "https://localhost:8080/"
        },
        "id": "Jhy4MB0GjpdG",
        "outputId": "214eff59-83d2-48c5-aa1f-383c887f2f75"
      },
      "execution_count": 96,
      "outputs": [
        {
          "output_type": "stream",
          "name": "stderr",
          "text": [
            "<ipython-input-96-31713060ef54>:10: DeprecatedFeatureWarning: content is deprecated, use rawContent instead\n",
            "  tweets_barack.append([tweet.date, tweet.user.username, tweet.content])\n"
          ]
        }
      ]
    },
    {
      "cell_type": "markdown",
      "source": [
        "### 2.2. Sentiment Analysis\n",
        "#### 2.2.1. Barack's Tweets"
      ],
      "metadata": {
        "id": "lPZw6QxMXe60"
      }
    },
    {
      "cell_type": "code",
      "source": [
        "Tweetlist = list(df_barack['tweet'])\n",
        "\n",
        "candiadte_labels = ['positive','neutral','negative']\n",
        "output_Barack = classifier(Tweetlist, candiadte_labels)\n"
      ],
      "metadata": {
        "id": "ytAyKkeGjUKt"
      },
      "execution_count": 145,
      "outputs": []
    },
    {
      "cell_type": "code",
      "source": [
        "output_Barack[0:10]"
      ],
      "metadata": {
        "colab": {
          "base_uri": "https://localhost:8080/"
        },
        "id": "334YqZuQftaJ",
        "outputId": "93b31e6a-3533-4160-c124-8663111d32d6"
      },
      "execution_count": 146,
      "outputs": [
        {
          "output_type": "execute_result",
          "data": {
            "text/plain": [
              "[{'sequence': \"For Women's History Month, I wanted to share the stories of Cary and Sharika—two women who've been building the Obama Presidential Center on the South Side of Chicago. I met them last year while visiting the site. Read their stories here: https://t.co/iSIl7dGFp8\",\n",
              "  'labels': ['positive', 'neutral', 'negative'],\n",
              "  'scores': [0.7120043039321899, 0.19460663199424744, 0.0933891236782074]},\n",
              " {'sequence': '.@DemRedistrict hasn’t just been fighting for fair maps — they’ve been fighting to give people everywhere a fair shot. Our democracy is stronger today because of their hard work. https://t.co/ZudD9hrqTL',\n",
              "  'labels': ['positive', 'neutral', 'negative'],\n",
              "  'scores': [0.9741888046264648, 0.01328306458890438, 0.012528201565146446]},\n",
              " {'sequence': \"This International Women's Day, read how @MichelleObama, @MelindaGates and Amal Clooney are working together to help end child marriage. I'm proud of the work @GirlsAlliance is doing to take on issues like this to create a better world for girls everywhere.https://t.co/m49a4abtjk\",\n",
              "  'labels': ['positive', 'neutral', 'negative'],\n",
              "  'scores': [0.945361852645874, 0.029884032905101776, 0.0247541144490242]},\n",
              " {'sequence': 'Judy Heumann dedicated her life to the fight for civil rights—starting as a young organizer at Camp Jened and later helping lead the disability rights movement. Michelle and I were fortunate to work with Judy over the years, and are thinking of her family and friends. https://t.co/ODXtMMWfnV',\n",
              "  'labels': ['positive', 'negative', 'neutral'],\n",
              "  'scores': [0.7272300124168396, 0.21046839654445648, 0.06230157986283302]},\n",
              " {'sequence': '“Fired up. Ready to go!” Edith Childs understands the power of a single voice, and she used those words to light up a room during my campaign stop in Greenwood, SC back in 2007.\\n\\nI recently caught up with Edith, who just retired after 24 years in public service. Take a look: https://t.co/IhW6pqnAQR',\n",
              "  'labels': ['positive', 'neutral', 'negative'],\n",
              "  'scores': [0.9391199350357056, 0.03170791640877724, 0.0291721411049366]},\n",
              " {'sequence': 'Real change happens one person, one community, one connection at a time. If you’re an emerging leader in Chicago, Detroit, or Jackson — I hope you’ll check out this new initiative to bring people from different backgrounds together to help solve local problems.',\n",
              "  'labels': ['positive', 'neutral', 'negative'],\n",
              "  'scores': [0.9065426588058472, 0.05807003378868103, 0.03538735210895538]},\n",
              " {'sequence': \"I’m so proud of the work we’ve done at @MBK_Alliance, and the young men who’ve been a part of this community. And we're not done yet. We’ll keep working to make sure even more boys and young men reach their full potential.\",\n",
              "  'labels': ['positive', 'neutral', 'negative'],\n",
              "  'scores': [0.9694643616676331, 0.021386124193668365, 0.00914944987744093]},\n",
              " {'sequence': \"I’m excited to announce that 105 inspiring young people from across Africa, Asia-Pacific, and Europe will be joining the @ObamaFoundation Leaders program. \\n\\nI am so proud of all of you, and I can't wait to see what you do. https://t.co/ifQMoumj2Q\",\n",
              "  'labels': ['negative', 'positive', 'neutral'],\n",
              "  'scores': [0.5685649514198303, 0.3975064754486084, 0.03392862528562546]},\n",
              " {'sequence': \"Dr. Blank's four years serving in my administration was just one part of her extraordinary life. Whether in government or academia, she devoted her career to reducing inequality and increasing opportunities for others, and made everyone around her better.\\xa0\\nhttps://t.co/wMGjRAacfN\",\n",
              "  'labels': ['positive', 'negative', 'neutral'],\n",
              "  'scores': [0.8970678448677063, 0.05292806401848793, 0.050004053860902786]},\n",
              " {'sequence': 'Happy Valentine’s Day to the one and only, @MichelleObama. You make every day feel like an adventure. https://t.co/NfywjrrDxb',\n",
              "  'labels': ['positive', 'neutral', 'negative'],\n",
              "  'scores': [0.9696431756019592, 0.019250117242336273, 0.011106682009994984]}]"
            ]
          },
          "metadata": {},
          "execution_count": 146
        }
      ]
    },
    {
      "cell_type": "code",
      "source": [
        "avg_score_Barack = [0,0,0]\n",
        "for i in range(0,len(output_Barack)):\n",
        "  avg_score_Barack = np.array(output_Barack[i]['scores'])+avg_score_Barack\n",
        "\n",
        "\n",
        "plt.bar(x=candiadte_labels, height=100* avg_score_Barack/len(output_Barack))\n",
        "plt.yticks(list(np.arange(0,100,10)))\n",
        "plt.xticks(rotation = 45)\n",
        "plt.title(\"Sentiment analysis of Barack Obama's Twitter Account\\n\\n\", fontsize = 14, fontweight = 'bold')\n",
        "plt.ylabel(\"Percentage\")\n",
        "plt.show()"
      ],
      "metadata": {
        "colab": {
          "base_uri": "https://localhost:8080/",
          "height": 349
        },
        "id": "hFxcUboFfu9K",
        "outputId": "cca33d70-f109-4e71-94f9-fd7064481945"
      },
      "execution_count": null,
      "outputs": [
        {
          "output_type": "display_data",
          "data": {
            "text/plain": [
              "<Figure size 432x288 with 1 Axes>"
            ],
            "image/png": "[encoded data removed]"
          },
          "metadata": {}
        }
      ]
    },
    {
      "cell_type": "markdown",
      "source": [
        "Well, not surprising!"
      ],
      "metadata": {
        "id": "i4PVTqqg8HKE"
      }
    },
    {
      "cell_type": "markdown",
      "source": [
        "#### 2.2.2. Tweet Replies"
      ],
      "metadata": {
        "id": "UnHQAW2P7pls"
      }
    },
    {
      "cell_type": "code",
      "source": [
        "import pandas as pd\n",
        "query = '(to:barackobama) until:2023-03-10 since:2023-02-01'\n",
        "limit = 5000\n",
        "tweets_tobarack = []\n",
        "for tweet in sntwitter.TwitterSearchScraper(query).get_items():\n",
        "  #print(vars(tweet))\n",
        "  #break\n",
        "  if len(tweets_tobarack)==limit:\n",
        "    break\n",
        "  else:\n",
        "    tweets_tobarack.append([tweet.date, tweet.user.username, tweet.content])\n",
        "  \n",
        "  df = pd.DataFrame(tweets_tobarack,columns = ['date','username','tweet'])"
      ],
      "metadata": {
        "colab": {
          "base_uri": "https://localhost:8080/"
        },
        "outputId": "2a608163-1a51-4bb6-8c35-5e886ea4475e",
        "id": "Pi_q_Voo7pls"
      },
      "execution_count": 66,
      "outputs": [
        {
          "output_type": "stream",
          "name": "stderr",
          "text": [
            "<ipython-input-66-67adf2424cb2>:11: DeprecatedFeatureWarning: content is deprecated, use rawContent instead\n",
            "  tweets_tobarack.append([tweet.date, tweet.user.username, tweet.content])\n"
          ]
        }
      ]
    },
    {
      "cell_type": "code",
      "source": [
        "df"
      ],
      "metadata": {
        "colab": {
          "base_uri": "https://localhost:8080/",
          "height": 423
        },
        "outputId": "e0016128-9efc-41e3-e27f-cc7a86111de3",
        "id": "BYE828S87plt"
      },
      "execution_count": 67,
      "outputs": [
        {
          "output_type": "execute_result",
          "data": {
            "text/plain": [
              "                          date         username  \\\n",
              "0    2023-03-09 23:53:58+00:00    drunkback1991   \n",
              "1    2023-03-09 23:40:01+00:00          NichXII   \n",
              "2    2023-03-09 23:31:25+00:00       BragaDias5   \n",
              "3    2023-03-09 23:26:04+00:00      Joe24926955   \n",
              "4    2023-03-09 23:21:59+00:00  lappoint9558248   \n",
              "...                        ...              ...   \n",
              "4995 2023-02-21 15:36:25+00:00    MichaelGOAT23   \n",
              "4996 2023-02-21 15:36:18+00:00   SleeperAgent05   \n",
              "4997 2023-02-21 15:32:21+00:00          jcohee2   \n",
              "4998 2023-02-21 15:24:03+00:00          jcohee2   \n",
              "4999 2023-02-21 15:23:40+00:00    UnderSecKvaal   \n",
              "\n",
              "                                                  tweet  \n",
              "0        @BarackObama drain the hope to voodoo late pun  \n",
              "1        @BarackObama @JoeBiden https://t.co/eKeP8YRrhp  \n",
              "2     @BarackObama @MichelleObama @melindagates @gir...  \n",
              "3     @BarackObama @MichelleObama @melindagates @gir...  \n",
              "4     @BarackObama \\nSakib Khan = Red Body color = M...  \n",
              "...                                                 ...  \n",
              "4995  @BarackObama @ObamaFoundation LIKE &amp; SUBSC...  \n",
              "4996  @BarackObama @ObamaFoundation Thank you Obama ...  \n",
              "4997  @BarackObama @POTUS @FLOTUS @GavinNewsom all o...  \n",
              "4998  @BarackObama @POTUS This is your fault Obama h...  \n",
              "4999  @BarackObama I’m grateful to have benefited fr...  \n",
              "\n",
              "[5000 rows x 3 columns]"
            ],
            "text/html": [
              "\n",
              "  <div id=\"df-11ba5a1e-227b-43e1-9f64-e54bb7c81a49\">\n",
              "    <div class=\"colab-df-container\">\n",
              "      <div>\n",
              "<style scoped>\n",
              "    .dataframe tbody tr th:only-of-type {\n",
              "        vertical-align: middle;\n",
              "    }\n",
              "\n",
              "    .dataframe tbody tr th {\n",
              "        vertical-align: top;\n",
              "    }\n",
              "\n",
              "    .dataframe thead th {\n",
              "        text-align: right;\n",
              "    }\n",
              "</style>\n",
              "<table border=\"1\" class=\"dataframe\">\n",
              "  <thead>\n",
              "    <tr style=\"text-align: right;\">\n",
              "      <th></th>\n",
              "      <th>date</th>\n",
              "      <th>username</th>\n",
              "      <th>tweet</th>\n",
              "    </tr>\n",
              "  </thead>\n",
              "  <tbody>\n",
              "    <tr>\n",
              "      <th>0</th>\n",
              "      <td>2023-03-09 23:53:58+00:00</td>\n",
              "      <td>drunkback1991</td>\n",
              "      <td>@BarackObama drain the hope to voodoo late pun</td>\n",
              "    </tr>\n",
              "    <tr>\n",
              "      <th>1</th>\n",
              "      <td>2023-03-09 23:40:01+00:00</td>\n",
              "      <td>NichXII</td>\n",
              "      <td>@BarackObama @JoeBiden https://t.co/eKeP8YRrhp</td>\n",
              "    </tr>\n",
              "    <tr>\n",
              "      <th>2</th>\n",
              "      <td>2023-03-09 23:31:25+00:00</td>\n",
              "      <td>BragaDias5</td>\n",
              "      <td>@BarackObama @MichelleObama @melindagates @gir...</td>\n",
              "    </tr>\n",
              "    <tr>\n",
              "      <th>3</th>\n",
              "      <td>2023-03-09 23:26:04+00:00</td>\n",
              "      <td>Joe24926955</td>\n",
              "      <td>@BarackObama @MichelleObama @melindagates @gir...</td>\n",
              "    </tr>\n",
              "    <tr>\n",
              "      <th>4</th>\n",
              "      <td>2023-03-09 23:21:59+00:00</td>\n",
              "      <td>lappoint9558248</td>\n",
              "      <td>@BarackObama \\nSakib Khan = Red Body color = M...</td>\n",
              "    </tr>\n",
              "    <tr>\n",
              "      <th>...</th>\n",
              "      <td>...</td>\n",
              "      <td>...</td>\n",
              "      <td>...</td>\n",
              "    </tr>\n",
              "    <tr>\n",
              "      <th>4995</th>\n",
              "      <td>2023-02-21 15:36:25+00:00</td>\n",
              "      <td>MichaelGOAT23</td>\n",
              "      <td>@BarackObama @ObamaFoundation LIKE &amp;amp; SUBSC...</td>\n",
              "    </tr>\n",
              "    <tr>\n",
              "      <th>4996</th>\n",
              "      <td>2023-02-21 15:36:18+00:00</td>\n",
              "      <td>SleeperAgent05</td>\n",
              "      <td>@BarackObama @ObamaFoundation Thank you Obama ...</td>\n",
              "    </tr>\n",
              "    <tr>\n",
              "      <th>4997</th>\n",
              "      <td>2023-02-21 15:32:21+00:00</td>\n",
              "      <td>jcohee2</td>\n",
              "      <td>@BarackObama @POTUS @FLOTUS @GavinNewsom all o...</td>\n",
              "    </tr>\n",
              "    <tr>\n",
              "      <th>4998</th>\n",
              "      <td>2023-02-21 15:24:03+00:00</td>\n",
              "      <td>jcohee2</td>\n",
              "      <td>@BarackObama @POTUS This is your fault Obama h...</td>\n",
              "    </tr>\n",
              "    <tr>\n",
              "      <th>4999</th>\n",
              "      <td>2023-02-21 15:23:40+00:00</td>\n",
              "      <td>UnderSecKvaal</td>\n",
              "      <td>@BarackObama I’m grateful to have benefited fr...</td>\n",
              "    </tr>\n",
              "  </tbody>\n",
              "</table>\n",
              "<p>5000 rows × 3 columns</p>\n",
              "</div>\n",
              "      <button class=\"colab-df-convert\" onclick=\"convertToInteractive('df-11ba5a1e-227b-43e1-9f64-e54bb7c81a49')\"\n",
              "              title=\"Convert this dataframe to an interactive table.\"\n",
              "              style=\"display:none;\">\n",
              "        \n",
              "  <svg xmlns=\"http://www.w3.org/2000/svg\" height=\"24px\"viewBox=\"0 0 24 24\"\n",
              "       width=\"24px\">\n",
              "    <path d=\"M0 0h24v24H0V0z\" fill=\"none\"/>\n",
              "    <path d=\"M18.56 5.44l.94 2.06.94-2.06 2.06-.94-2.06-.94-.94-2.06-.94 2.06-2.06.94zm-11 1L8.5 8.5l.94-2.06 2.06-.94-2.06-.94L8.5 2.5l-.94 2.06-2.06.94zm10 10l.94 2.06.94-2.06 2.06-.94-2.06-.94-.94-2.06-.94 2.06-2.06.94z\"/><path d=\"M17.41 7.96l-1.37-1.37c-.4-.4-.92-.59-1.43-.59-.52 0-1.04.2-1.43.59L10.3 9.45l-7.72 7.72c-.78.78-.78 2.05 0 2.83L4 21.41c.39.39.9.59 1.41.59.51 0 1.02-.2 1.41-.59l7.78-7.78 2.81-2.81c.8-.78.8-2.07 0-2.86zM5.41 20L4 18.59l7.72-7.72 1.47 1.35L5.41 20z\"/>\n",
              "  </svg>\n",
              "      </button>\n",
              "      \n",
              "  <style>\n",
              "    .colab-df-container {\n",
              "      display:flex;\n",
              "      flex-wrap:wrap;\n",
              "      gap: 12px;\n",
              "    }\n",
              "\n",
              "    .colab-df-convert {\n",
              "      background-color: #E8F0FE;\n",
              "      border: none;\n",
              "      border-radius: 50%;\n",
              "      cursor: pointer;\n",
              "      display: none;\n",
              "      fill: #1967D2;\n",
              "      height: 32px;\n",
              "      padding: 0 0 0 0;\n",
              "      width: 32px;\n",
              "    }\n",
              "\n",
              "    .colab-df-convert:hover {\n",
              "      background-color: #E2EBFA;\n",
              "      box-shadow: 0px 1px 2px rgba(60, 64, 67, 0.3), 0px 1px 3px 1px rgba(60, 64, 67, 0.15);\n",
              "      fill: #174EA6;\n",
              "    }\n",
              "\n",
              "    [theme=dark] .colab-df-convert {\n",
              "      background-color: #3B4455;\n",
              "      fill: #D2E3FC;\n",
              "    }\n",
              "\n",
              "    [theme=dark] .colab-df-convert:hover {\n",
              "      background-color: #434B5C;\n",
              "      box-shadow: 0px 1px 3px 1px rgba(0, 0, 0, 0.15);\n",
              "      filter: drop-shadow(0px 1px 2px rgba(0, 0, 0, 0.3));\n",
              "      fill: #FFFFFF;\n",
              "    }\n",
              "  </style>\n",
              "\n",
              "      <script>\n",
              "        const buttonEl =\n",
              "          document.querySelector('#df-11ba5a1e-227b-43e1-9f64-e54bb7c81a49 button.colab-df-convert');\n",
              "        buttonEl.style.display =\n",
              "          google.colab.kernel.accessAllowed ? 'block' : 'none';\n",
              "\n",
              "        async function convertToInteractive(key) {\n",
              "          const element = document.querySelector('#df-11ba5a1e-227b-43e1-9f64-e54bb7c81a49');\n",
              "          const dataTable =\n",
              "            await google.colab.kernel.invokeFunction('convertToInteractive',\n",
              "                                                     [key], {});\n",
              "          if (!dataTable) return;\n",
              "\n",
              "          const docLinkHtml = 'Like what you see? Visit the ' +\n",
              "            '<a target=\"_blank\" href=https://colab.research.google.com/notebooks/data_table.ipynb>data table notebook</a>'\n",
              "            + ' to learn more about interactive tables.';\n",
              "          element.innerHTML = '';\n",
              "          dataTable['output_type'] = 'display_data';\n",
              "          await google.colab.output.renderOutput(dataTable, element);\n",
              "          const docLink = document.createElement('div');\n",
              "          docLink.innerHTML = docLinkHtml;\n",
              "          element.appendChild(docLink);\n",
              "        }\n",
              "      </script>\n",
              "    </div>\n",
              "  </div>\n",
              "  "
            ]
          },
          "metadata": {},
          "execution_count": 67
        }
      ]
    },
    {
      "cell_type": "code",
      "source": [
        "Tweetlist = list(df['tweet'])\n",
        "\n",
        "candiadte_labels = ['positive','neutral','negative']\n",
        "output_tobarack = classifier(Tweetlist, candiadte_labels)\n"
      ],
      "metadata": {
        "id": "qNVzgtll7plt"
      },
      "execution_count": 68,
      "outputs": []
    },
    {
      "cell_type": "markdown",
      "source": [
        "Here, we can we how positive or negative the tweet replies are: "
      ],
      "metadata": {
        "id": "alsNfGBS7plu"
      }
    },
    {
      "cell_type": "code",
      "source": [
        "output_tobarack[0:10]"
      ],
      "metadata": {
        "colab": {
          "base_uri": "https://localhost:8080/"
        },
        "outputId": "95f59d27-da42-4b31-c97f-fd8971841248",
        "id": "6rivD93H7plu"
      },
      "execution_count": 147,
      "outputs": [
        {
          "output_type": "execute_result",
          "data": {
            "text/plain": [
              "[{'sequence': '@BarackObama drain the hope to voodoo late pun',\n",
              "  'labels': ['negative', 'positive', 'neutral'],\n",
              "  'scores': [0.9076935648918152, 0.04854387789964676, 0.043762531131505966]},\n",
              " {'sequence': '@BarackObama @JoeBiden https://t.co/eKeP8YRrhp',\n",
              "  'labels': ['positive', 'negative', 'neutral'],\n",
              "  'scores': [0.6981607675552368, 0.19644376635551453, 0.10539539903402328]},\n",
              " {'sequence': '@BarackObama @MichelleObama @melindagates @girlsalliance good evening sir, my name is Francisco José Braga, I am only Mozambican from the province of Zambézia, I only graduated in industrial electricity and I am unemployed I know I am wrong to ask this I really want to have my own business because employment in my country is difficult',\n",
              "  'labels': ['negative', 'positive', 'neutral'],\n",
              "  'scores': [0.8023900389671326, 0.11958688497543335, 0.0780230164527893]},\n",
              " {'sequence': '@BarackObama @MichelleObama @melindagates @girlsalliance 🇺🇸😎 https://t.co/TnfYkG6SO7',\n",
              "  'labels': ['positive', 'neutral', 'negative'],\n",
              "  'scores': [0.9805775880813599, 0.01156342402100563, 0.007858993485569954]},\n",
              " {'sequence': '@BarackObama \\nSakib Khan = Red Body color = Maratha Hindu of Mumbai India = its past generation lived in Mayan Civilization of Mexico 10000 years before https://t.co/sPLnQEoT6D',\n",
              "  'labels': ['negative', 'positive', 'neutral'],\n",
              "  'scores': [0.6096084117889404, 0.225882425904274, 0.1645091474056244]},\n",
              " {'sequence': '@BarackObama \\nJaya Ahsan = red body color = Maratha Hindu of Mumbai India but it is showing islamic religious design in Bangladesh\\nrape Jaya Ahsan till death https://t.co/BBdx24PdS2',\n",
              "  'labels': ['negative', 'positive', 'neutral'],\n",
              "  'scores': [0.9652491807937622, 0.019414741545915604, 0.015336076728999615]},\n",
              " {'sequence': '@BarackObama \\nHave you ever thought once sir, that blacks African Americans have treated your presidency wrong?\\n\"Who was the leader?\"\\n\"We got him like that?\"etc;\\nMy experience is that we are all Americans. We help one another....y the Lord we are no exemption....why do blks craft',\n",
              "  'labels': ['negative', 'positive', 'neutral'],\n",
              "  'scores': [0.95354163646698, 0.024110957980155945, 0.02234739251434803]},\n",
              " {'sequence': '@BarackObama 🙏❤',\n",
              "  'labels': ['positive', 'neutral', 'negative'],\n",
              "  'scores': [0.9865990281105042, 0.009376534260809422, 0.0040245139971375465]},\n",
              " {'sequence': '@BarackObama criminal like all the others',\n",
              "  'labels': ['negative', 'neutral', 'positive'],\n",
              "  'scores': [0.9881216287612915, 0.006052864249795675, 0.00582550885155797]},\n",
              " {'sequence': '@BarackObama @MichelleObama @melindagates @girlsalliance https://t.co/s5GuD69z1C',\n",
              "  'labels': ['positive', 'negative', 'neutral'],\n",
              "  'scores': [0.7854684591293335, 0.12345889955759048, 0.09107263386249542]}]"
            ]
          },
          "metadata": {},
          "execution_count": 147
        }
      ]
    },
    {
      "cell_type": "markdown",
      "source": [
        "Now, lets have a look at the sentiment analysis of the overal audience."
      ],
      "metadata": {
        "id": "TiZNLrQs7plu"
      }
    },
    {
      "cell_type": "code",
      "source": [
        "avg_score_tobarack = [0,0,0]\n",
        "for i in range(0,len(output_tobarack)):\n",
        "  avg_score_tobarack = np.array(output_tobarack[i]['scores'])+avg_score_tobarack\n",
        "\n",
        "\n",
        "plt.bar(x=candiadte_labels, height=100* avg_score_tobarack/len(output_tobarack))\n",
        "plt.yticks(list(np.arange(0,100,10)))\n",
        "plt.xticks(rotation = 45)\n",
        "plt.title(\"\\nSentiment analysis of replies to Barack's Tweets\\n\\n\", fontsize = 14, fontweight = 'bold')\n",
        "plt.ylabel(\"Percentage\")\n",
        "plt.show()"
      ],
      "metadata": {
        "colab": {
          "base_uri": "https://localhost:8080/",
          "height": 365
        },
        "outputId": "e79a9c2e-ae28-45d4-c1e8-d8dff882a9ee",
        "id": "WLJ_wmdO7plu"
      },
      "execution_count": 76,
      "outputs": [
        {
          "output_type": "display_data",
          "data": {
            "text/plain": [
              "<Figure size 432x288 with 1 Axes>"
            ],
            "image/png": "[encoded data removed]"
          },
          "metadata": {}
        }
      ]
    },
    {
      "cell_type": "markdown",
      "source": [
        "Done!\n",
        "\n",
        "Ok, now, lets find out the most active followers from the replies. "
      ],
      "metadata": {
        "id": "7awpgRov7plv"
      }
    },
    {
      "cell_type": "code",
      "source": [
        "Followers = list(df['username'])"
      ],
      "metadata": {
        "id": "n3HJn8zu7plv"
      },
      "execution_count": null,
      "outputs": []
    },
    {
      "cell_type": "code",
      "source": [
        "def reduce_to_duplicates(orig_list):\n",
        "  counts = {}\n",
        "  for i in orig_list:\n",
        "    if i in counts:\n",
        "      counts[i] += 1\n",
        "    else:\n",
        "      counts[i] = 1\n",
        "  duplist = [k for k, v in sorted(counts.items(), key=lambda item: item[1], reverse=True)[:5]]\n",
        "  return duplist\n"
      ],
      "metadata": {
        "id": "brOjGID27plv"
      },
      "execution_count": 72,
      "outputs": []
    },
    {
      "cell_type": "code",
      "source": [
        "Active_Followers = Followers.copy()\n",
        "Active_Followers = reduce_to_duplicates(Active_Followers)\n",
        "print(\"Barack's Active_Followers:\\n\")\n",
        "pprint.pprint(Active_Followers)"
      ],
      "metadata": {
        "colab": {
          "base_uri": "https://localhost:8080/"
        },
        "outputId": "2ef7254d-8019-41b1-fbc4-2194d8f61a52",
        "id": "YV90TxyF7plw"
      },
      "execution_count": 75,
      "outputs": [
        {
          "output_type": "stream",
          "name": "stdout",
          "text": [
            "Barack's Active_Followers:\n",
            "\n",
            "['lorinczlevente9', 'OzielNatalie', 'FreshUgg', 'r_couch2', 'lappoint9558248']\n"
          ]
        }
      ]
    },
    {
      "cell_type": "markdown",
      "source": [
        "And now, it's time for summarization:"
      ],
      "metadata": {
        "id": "o7buv06WjM52"
      }
    },
    {
      "cell_type": "markdown",
      "source": [
        "### 2.3. Account Summarization"
      ],
      "metadata": {
        "id": "uFshj9igjGw7"
      }
    },
    {
      "cell_type": "code",
      "source": [
        "Tweetlist = list(df_barack['tweet'])\n",
        "# Concatenate the text of all the tweets\n",
        "alltext_Barack = \"\"\n",
        "for tweet in Tweetlist:\n",
        "    alltext_Barack += tweet"
      ],
      "metadata": {
        "id": "uECjS36m8LAA"
      },
      "execution_count": 97,
      "outputs": []
    },
    {
      "cell_type": "code",
      "source": [
        "alltext_Barack"
      ],
      "metadata": {
        "colab": {
          "base_uri": "https://localhost:8080/",
          "height": 192
        },
        "id": "uB7CThzS9OB6",
        "outputId": "74745591-9518-45f6-d77f-729f2c290014"
      },
      "execution_count": 98,
      "outputs": [
        {
          "output_type": "execute_result",
          "data": {
            "text/plain": [
              "\"For Women's History Month, I wanted to share the stories of Cary and Sharika—two women who've been building the Obama Presidential Center on the South Side of Chicago. I met them last year while visiting the site. Read their stories here: https://t.co/iSIl7dGFp8.@DemRedistrict hasn’t just been fighting for fair maps — they’ve been fighting to give people everywhere a fair shot. Our democracy is stronger today because of their hard work. https://t.co/ZudD9hrqTLThis International Women's Day, read how @MichelleObama, @MelindaGates and Amal Clooney are working together to help end child marriage. I'm proud of the work @GirlsAlliance is doing to take on issues like this to create a better world for girls everywhere.https://t.co/m49a4abtjkJudy Heumann dedicated her life to the fight for civil rights—starting as a young organizer at Camp Jened and later helping lead the disability rights movement. Michelle and I were fortunate to work with Judy over the years, and are thinking of her family and friends. https://t.co/ODXtMMWfnV“Fired up. Ready to go!” Edith Childs understands the power of a single voice, and she used those words to light up a room during my campaign stop in Greenwood, SC back in 2007.\\n\\nI recently caught up with Edith, who just retired after 24 years in public service. Take a look: https://t.co/IhW6pqnAQRReal change happens one person, one community, one connection at a time. If you’re an emerging leader in Chicago, Detroit, or Jackson — I hope you’ll check out this new initiative to bring people from different backgrounds together to help solve local problems.I’m so proud of the work we’ve done at @MBK_Alliance, and the young men who’ve been a part of this community. And we're not done yet. We’ll keep working to make sure even more boys and young men reach their full potential.I’m excited to announce that 105 inspiring young people from across Africa, Asia-Pacific, and Europe will be joining the @ObamaFoundation Leaders program. \\n\\nI am so proud of all of you, and I can't wait to see what you do. https://t.co/ifQMoumj2QDr. Blank's four years serving in my administration was just one part of her extraordinary life. Whether in government or academia, she devoted her career to reducing inequality and increasing opportunities for others, and made everyone around her better.\\xa0\\nhttps://t.co/wMGjRAacfNHappy Valentine’s Day to the one and only, @MichelleObama. You make every day feel like an adventure. https://t.co/NfywjrrDxbCongratulations to the Kansas City @Chiefs, Patrick Mahomes, Travis Kelce and Andy Reid for a great Super Bowl win and for sustained excellence. And shout out to the @Eagles and Jalen Hurts—outstanding competitors with a bright future.@KingJames has been changing the game for 20 years, and has become a leader on and off the court. Congrats on making history.The scale of devastation after the earthquakes in Türkiye and Syria is almost unimaginable. Michelle and I are thinking of the thousands of people who have been affected, including Syrian refugees. Here are some resources for anyone looking to help.At my last Black History Month celebration at the White House, we had folks of all ages come together to celebrate—including Clark Reynolds. I hope we'll continue to build a brighter future for young people like him. https://t.co/H9NagqrqmWBlack History Month is about the shared experience of all Black Americans whose lives have shaped, challenged, and ultimately strengthened America.\""
            ],
            "application/vnd.google.colaboratory.intrinsic+json": {
              "type": "string"
            }
          },
          "metadata": {},
          "execution_count": 98
        }
      ]
    },
    {
      "cell_type": "code",
      "source": [
        "account_summary = summarizer(alltext_Barack, max_length=200, min_length=20)[0][\"summary_text\"]\n",
        "account_summary"
      ],
      "metadata": {
        "colab": {
          "base_uri": "https://localhost:8080/",
          "height": 70
        },
        "id": "yAL897d28WKF",
        "outputId": "e47da796-abf5-4418-d9f3-0f5e73839ee9"
      },
      "execution_count": null,
      "outputs": [
        {
          "output_type": "execute_result",
          "data": {
            "text/plain": [
              "\"for women's history month, i wanted to share the stories of cary and Sharika . i'm proud of the work @GirlsAlliance is doing to end child marriage . http://t.co/m49a4abtjkEdith childs understands the power of a single voice .\""
            ],
            "application/vnd.google.colaboratory.intrinsic+json": {
              "type": "string"
            }
          },
          "metadata": {},
          "execution_count": 88
        }
      ]
    },
    {
      "cell_type": "code",
      "source": [
        "print(\"\\33[1mThe summary of Barack's account is:\\33[0m \\n\")\n",
        "pprint(account_summary)"
      ],
      "metadata": {
        "colab": {
          "base_uri": "https://localhost:8080/"
        },
        "id": "36h46L4VXam4",
        "outputId": "bbfa12f6-22e5-4915-a3e3-eeedd39e6edf"
      },
      "execution_count": null,
      "outputs": [
        {
          "output_type": "stream",
          "name": "stdout",
          "text": [
            "\u001b[1mThe summary of Barack's account is:\u001b[0m \n",
            "\n",
            "(\"for women's history month, i wanted to share the stories of cary and Sharika \"\n",
            " \". i'm proud of the work @GirlsAlliance is doing to end child marriage . \"\n",
            " 'http://t.co/m49a4abtjkEdith childs understands the power of a single voice .')\n"
          ]
        }
      ]
    },
    {
      "cell_type": "markdown",
      "source": [
        "No wonder the average content was close to 90% positive!"
      ],
      "metadata": {
        "id": "2jnGfGDl9Ett"
      }
    },
    {
      "cell_type": "markdown",
      "source": [
        "Now, let's summarize in two paragraphs:"
      ],
      "metadata": {
        "id": "HsaNRy25ZSku"
      }
    },
    {
      "cell_type": "code",
      "source": [
        "summary1 = summarizer(alltext_Barack, max_length=400, min_length=50)[0][\"summary_text\"]\n",
        "\n",
        "# Generate a second summary that complements the first\n",
        "num_sentences = summary1.count('. ') + 1  # Count the number of sentences in summary1\n",
        "sentences = alltext_Barack.split('. ')  # Split the text at sentence boundaries\n",
        "midpoint = num_sentences * len(sentences) // (2 * num_sentences)  # Find the midpoint based on sentence count\n",
        "\n",
        "text2 = ' '.join(sentences[midpoint:])\n",
        "summary2 = summarizer(text2, max_length=400, min_length=50)[0][\"summary_text\"]\n",
        "\n",
        "# Assign the two summaries to different paragraphs\n",
        "summary_paragraph1 = summary1\n",
        "summary_paragraph2 = summary2"
      ],
      "metadata": {
        "id": "xUCD_a25IXhQ"
      },
      "execution_count": 99,
      "outputs": []
    },
    {
      "cell_type": "code",
      "source": [
        "pprint.pprint(summary_paragraph1)\n",
        "print(\"\\n\")\n",
        "pprint.pprint(summary_paragraph2)"
      ],
      "metadata": {
        "colab": {
          "base_uri": "https://localhost:8080/"
        },
        "id": "G7tlFwzlJwhx",
        "outputId": "a40265f0-9636-4ab3-8925-e7764b14dc50"
      },
      "execution_count": 125,
      "outputs": [
        {
          "output_type": "stream",
          "name": "stdout",
          "text": [
            "(\"for women's history month, i wanted to share the stories of cary and Sharika \"\n",
            " \". i'm proud of the work @GirlsAlliance is doing to help end child marriage . \"\n",
            " 'http://t.co/m49a4abtjkEdith childs understands the power of a single voice .')\n",
            "\n",
            "\n",
            "('the scale of devastation after the earthquakes in Türkiye and Syria is '\n",
            " 'almost unimaginable Michelle and i are thinking of the thousands of people '\n",
            " 'who have been affected . 105 young people from across africa, Asia-Pacific, '\n",
            " 'and Europe will be joining the @ObamaFoundation Leaders program .')\n"
          ]
        }
      ]
    },
    {
      "cell_type": "markdown",
      "source": [
        "## 3. **Cathie Wood**\n",
        "\n",
        "Side note: she is founder, CEO and CIO of ARKinvest. \n",
        "\n",
        "### 3.1. Scrapping Tweets\n",
        "\n",
        "\n"
      ],
      "metadata": {
        "id": "_5AeJPq499Au"
      }
    },
    {
      "cell_type": "code",
      "source": [
        "query_cathi = '(from:cathiedwood) until:2023-03-11 since:2023-02-01'\n",
        "limit = 1000\n",
        "tweets_cathi = []\n",
        "for tweet in sntwitter.TwitterSearchScraper(query_cathi).get_items():\n",
        "  #print(vars(tweet))\n",
        "  #break\n",
        "  if len(tweets_cathi)==limit:\n",
        "    break\n",
        "  else:\n",
        "    tweets_cathi.append([tweet.date, tweet.user.username, tweet.content])\n",
        "  \n",
        "  df_cathi = pd.DataFrame(tweets_cathi,columns = ['date','username','tweet'])\n"
      ],
      "metadata": {
        "colab": {
          "base_uri": "https://localhost:8080/"
        },
        "id": "qYvdBqHZ96IF",
        "outputId": "61315776-a093-4f1f-e8a8-59d639ada360"
      },
      "execution_count": 127,
      "outputs": [
        {
          "output_type": "stream",
          "name": "stderr",
          "text": [
            "<ipython-input-127-052ad0e7f6c7>:10: DeprecatedFeatureWarning: content is deprecated, use rawContent instead\n",
            "  tweets_cathi.append([tweet.date, tweet.user.username, tweet.content])\n"
          ]
        }
      ]
    },
    {
      "cell_type": "markdown",
      "source": [
        "### 3.2. Sentiment Analysis\n",
        "#### 3.2.1. Cathie's Tweets"
      ],
      "metadata": {
        "id": "FO55lLAVXy_6"
      }
    },
    {
      "cell_type": "code",
      "source": [
        "\n",
        "Tweetlist = list(df_cathi['tweet'])\n",
        "candiadte_labels = ['positive','neutral','negative']\n",
        "output_cathi = classifier(Tweetlist, candiadte_labels)\n"
      ],
      "metadata": {
        "id": "_vZPGMkYXyo-"
      },
      "execution_count": null,
      "outputs": []
    },
    {
      "cell_type": "code",
      "source": [
        "output_cathi[0:10]"
      ],
      "metadata": {
        "colab": {
          "base_uri": "https://localhost:8080/"
        },
        "id": "O1LZlB3kET6o",
        "outputId": "416f2b32-3dbc-4bbb-82a4-d3599f908355"
      },
      "execution_count": 148,
      "outputs": [
        {
          "output_type": "execute_result",
          "data": {
            "text/plain": [
              "[{'sequence': 'As Art Laffer postulates in his latest book, “Taxes Have Consequences”. Given Biden’s latest budget proposals, the great migration to low or no tax states like FL and TN and, in my view, to countries hungry for innovation in Asia and elsewhere is likely to accelerate.',\n",
              "  'labels': ['negative', 'neutral', 'positive'],\n",
              "  'scores': [0.8147342801094055, 0.11017666757106781, 0.07508909702301025]},\n",
              " {'sequence': 'Provocative. During the last few years, I have expressed my frustration with Google search, deeming it primitive AI, notwithstanding Alphabet’s DeepMind expertise. OpenAI/Microsoft’s ChatGPT is the “iPhone moment” of this decade, changing everything. Disruptive innovation!',\n",
              "  'labels': ['positive', 'negative', 'neutral'],\n",
              "  'scores': [0.8569517135620117, 0.10273782908916473, 0.04031042382121086]},\n",
              " {'sequence': 'Important perspective.',\n",
              "  'labels': ['positive', 'neutral', 'negative'],\n",
              "  'scores': [0.8098917007446289, 0.10573817789554596, 0.08437015116214752]},\n",
              " {'sequence': 'On @CNBC this week, @SaraEisen asked if #Tesla is cutting prices in response to competition. After investor day, @skorusARK illustrated that Tesla is passing along drivetrain cost declines that will cut the price of the Model 3 in half to $25,000, undercutting competition!',\n",
              "  'labels': ['negative', 'positive', 'neutral'],\n",
              "  'scores': [0.3435027301311493, 0.33052000403404236, 0.3259773254394531]},\n",
              " {'sequence': 'Welcome to @ARKInvest, Daniel! We are delighted that you will be working with @TashaARK and @skorusARK to  research autonomous mobility, the biggest technologically-enabled revenue opportunity that we expect to evolve during the next five to ten years.',\n",
              "  'labels': ['positive', 'neutral', 'negative'],\n",
              "  'scores': [0.9817529916763306, 0.012733775191009045, 0.005513227544724941]},\n",
              " {'sequence': '@daltonan Looking forward to tuning in!',\n",
              "  'labels': ['positive', 'neutral', 'negative'],\n",
              "  'scores': [0.7334483861923218, 0.1625087410211563, 0.10404287278652191]},\n",
              " {'sequence': 'One more thought: @ARKInvest has a five year investment time horizon. Now that the most brutal interest rate increase in history is near an end, growth stocks in general and innovation-based strategies in particular should make up for lost time.',\n",
              "  'labels': ['positive', 'neutral', 'negative'],\n",
              "  'scores': [0.7109091281890869, 0.19324107468128204, 0.09584986418485641]},\n",
              " {'sequence': 'Thank you, @EricBalchunas, for defending active equity management. Upon hearing why I founded @ARKInvest in 2014, a friend who was not in the investment business said, “Oh, you mean the future of investing is investing in the future?” Yes! Please see ARK’s Big Ideas 2023.',\n",
              "  'labels': ['positive', 'negative', 'neutral'],\n",
              "  'scores': [0.9482877254486084, 0.029763100668787956, 0.02194915898144245]},\n",
              " {'sequence': 'Think about AI as the assembly line for knowledge workers! Roughly 100 years ago, the assembly line turbocharged the Industrial Revolution. Today, AI is turbocharging the digital revolution, not only for enterprises but also for consumers.',\n",
              "  'labels': ['positive', 'neutral', 'negative'],\n",
              "  'scores': [0.7653798460960388, 0.12721538543701172, 0.10740476846694946]},\n",
              " {'sequence': 'Charlie Munger and many on Wall Street do not understand that passing along the lower costs associated with technologically-enabled innovation, in #Tesla’s case batteries and drivetrains, will cause a boom in unit demand, discrediting the Keynesian/Fed’s Phillips Curve model.',\n",
              "  'labels': ['negative', 'positive', 'neutral'],\n",
              "  'scores': [0.5198779106140137, 0.38945573568344116, 0.09066638350486755]}]"
            ]
          },
          "metadata": {},
          "execution_count": 148
        }
      ]
    },
    {
      "cell_type": "code",
      "source": [
        "avg_score_cathi = [0,0,0]\n",
        "for i in range(0,len(output_cathi)):\n",
        "  avg_score_cathi = np.array(output_cathi[i]['scores'])+avg_score_cathi\n",
        "\n",
        "\n",
        "plt.bar(x=candiadte_labels, height=100*avg_score_cathi/len(output_cathi))\n",
        "plt.yticks(list(np.arange(0,100,10)))\n",
        "plt.xticks(rotation = 45)\n",
        "plt.title(\"Sentiment analysis of Cathie Wood's Twitter Account\\n\\n\", fontsize = 14, fontweight = 'bold')\n",
        "plt.ylabel(\"Percentage\")\n",
        "plt.show()"
      ],
      "metadata": {
        "colab": {
          "base_uri": "https://localhost:8080/",
          "height": 349
        },
        "id": "N00LYlXHDGyk",
        "outputId": "14c664e8-7ea0-40a3-9860-da195eb2ace9"
      },
      "execution_count": null,
      "outputs": [
        {
          "output_type": "display_data",
          "data": {
            "text/plain": [
              "<Figure size 432x288 with 1 Axes>"
            ],
            "image/png": "[encoded data removed]"
          },
          "metadata": {}
        }
      ]
    },
    {
      "cell_type": "markdown",
      "source": [
        "Close to Elon."
      ],
      "metadata": {
        "id": "K7bMLYbUjmAl"
      }
    },
    {
      "cell_type": "markdown",
      "source": [
        "#### 3.2.2. Tweet Replies"
      ],
      "metadata": {
        "id": "lKP-mKy7_9JT"
      }
    },
    {
      "cell_type": "code",
      "source": [
        "import pandas as pd\n",
        "query = '(to:cathiedwood) until:2023-03-10 since:2023-02-01'\n",
        "limit = 5000\n",
        "tweets_tocathi = []\n",
        "for tweet in sntwitter.TwitterSearchScraper(query).get_items():\n",
        "  #print(vars(tweet))\n",
        "  #break\n",
        "  if len(tweets_tocathi)==limit:\n",
        "    break\n",
        "  else:\n",
        "    tweets_tocathi.append([tweet.date, tweet.user.username, tweet.content])\n",
        "  \n",
        "  df = pd.DataFrame(tweets_tocathi,columns = ['date','username','tweet'])"
      ],
      "metadata": {
        "colab": {
          "base_uri": "https://localhost:8080/"
        },
        "outputId": "51fcb606-7d08-4540-fd22-e38947fbf835",
        "id": "qpRMgxei_9JT"
      },
      "execution_count": 77,
      "outputs": [
        {
          "output_type": "stream",
          "name": "stderr",
          "text": [
            "<ipython-input-77-39e66b429c0d>:11: DeprecatedFeatureWarning: content is deprecated, use rawContent instead\n",
            "  tweets_tocathi.append([tweet.date, tweet.user.username, tweet.content])\n"
          ]
        }
      ]
    },
    {
      "cell_type": "code",
      "source": [
        "df"
      ],
      "metadata": {
        "colab": {
          "base_uri": "https://localhost:8080/",
          "height": 423
        },
        "outputId": "9d36645e-0524-493d-8e2f-0a796d688e6b",
        "id": "XFhFRsu7_9JU"
      },
      "execution_count": 78,
      "outputs": [
        {
          "output_type": "execute_result",
          "data": {
            "text/plain": [
              "                          date         username  \\\n",
              "0    2023-03-09 23:53:53+00:00         MattF888   \n",
              "1    2023-03-09 22:31:31+00:00          dkawnik   \n",
              "2    2023-03-09 22:30:49+00:00  shuhebpontanath   \n",
              "3    2023-03-09 22:23:14+00:00      N_J_Calla23   \n",
              "4    2023-03-09 22:16:40+00:00      N_J_Calla23   \n",
              "...                        ...              ...   \n",
              "2471 2023-02-01 03:25:48+00:00        anas7acia   \n",
              "2472 2023-02-01 03:25:40+00:00     SilentAlert1   \n",
              "2473 2023-02-01 03:25:22+00:00      now_weblife   \n",
              "2474 2023-02-01 03:25:09+00:00      CathieDWood   \n",
              "2475 2023-02-01 03:25:09+00:00      CathieDWood   \n",
              "\n",
              "                                                  tweet  \n",
              "0     @CathieDWood Wheres the money coming from afte...  \n",
              "1     @CathieDWood Is there a \"Steve Jobs\" to see it...  \n",
              "2     @CathieDWood ‘s #ARKK \\nhas bought 69,329 more...  \n",
              "3     @CathieDWood It's not even AI. It's censored a...  \n",
              "4     @CathieDWood @ARKInvest @downingARK @summerlin...  \n",
              "...                                                 ...  \n",
              "2471                 @CathieDWood @ARKInvest 200? Wow 🤩  \n",
              "2472  @CathieDWood @ARKInvest Should add @Hyliion, l...  \n",
              "2473                        @CathieDWood @ARKInvest wow  \n",
              "2474  With many thanks to our Chief Futurist, @winto...  \n",
              "2475  From AI and multi-omics to blockchain technolo...  \n",
              "\n",
              "[2476 rows x 3 columns]"
            ],
            "text/html": [
              "\n",
              "  <div id=\"df-99969d1d-e0ad-4172-9431-402b890b488b\">\n",
              "    <div class=\"colab-df-container\">\n",
              "      <div>\n",
              "<style scoped>\n",
              "    .dataframe tbody tr th:only-of-type {\n",
              "        vertical-align: middle;\n",
              "    }\n",
              "\n",
              "    .dataframe tbody tr th {\n",
              "        vertical-align: top;\n",
              "    }\n",
              "\n",
              "    .dataframe thead th {\n",
              "        text-align: right;\n",
              "    }\n",
              "</style>\n",
              "<table border=\"1\" class=\"dataframe\">\n",
              "  <thead>\n",
              "    <tr style=\"text-align: right;\">\n",
              "      <th></th>\n",
              "      <th>date</th>\n",
              "      <th>username</th>\n",
              "      <th>tweet</th>\n",
              "    </tr>\n",
              "  </thead>\n",
              "  <tbody>\n",
              "    <tr>\n",
              "      <th>0</th>\n",
              "      <td>2023-03-09 23:53:53+00:00</td>\n",
              "      <td>MattF888</td>\n",
              "      <td>@CathieDWood Wheres the money coming from afte...</td>\n",
              "    </tr>\n",
              "    <tr>\n",
              "      <th>1</th>\n",
              "      <td>2023-03-09 22:31:31+00:00</td>\n",
              "      <td>dkawnik</td>\n",
              "      <td>@CathieDWood Is there a \"Steve Jobs\" to see it...</td>\n",
              "    </tr>\n",
              "    <tr>\n",
              "      <th>2</th>\n",
              "      <td>2023-03-09 22:30:49+00:00</td>\n",
              "      <td>shuhebpontanath</td>\n",
              "      <td>@CathieDWood ‘s #ARKK \\nhas bought 69,329 more...</td>\n",
              "    </tr>\n",
              "    <tr>\n",
              "      <th>3</th>\n",
              "      <td>2023-03-09 22:23:14+00:00</td>\n",
              "      <td>N_J_Calla23</td>\n",
              "      <td>@CathieDWood It's not even AI. It's censored a...</td>\n",
              "    </tr>\n",
              "    <tr>\n",
              "      <th>4</th>\n",
              "      <td>2023-03-09 22:16:40+00:00</td>\n",
              "      <td>N_J_Calla23</td>\n",
              "      <td>@CathieDWood @ARKInvest @downingARK @summerlin...</td>\n",
              "    </tr>\n",
              "    <tr>\n",
              "      <th>...</th>\n",
              "      <td>...</td>\n",
              "      <td>...</td>\n",
              "      <td>...</td>\n",
              "    </tr>\n",
              "    <tr>\n",
              "      <th>2471</th>\n",
              "      <td>2023-02-01 03:25:48+00:00</td>\n",
              "      <td>anas7acia</td>\n",
              "      <td>@CathieDWood @ARKInvest 200? Wow 🤩</td>\n",
              "    </tr>\n",
              "    <tr>\n",
              "      <th>2472</th>\n",
              "      <td>2023-02-01 03:25:40+00:00</td>\n",
              "      <td>SilentAlert1</td>\n",
              "      <td>@CathieDWood @ARKInvest Should add @Hyliion, l...</td>\n",
              "    </tr>\n",
              "    <tr>\n",
              "      <th>2473</th>\n",
              "      <td>2023-02-01 03:25:22+00:00</td>\n",
              "      <td>now_weblife</td>\n",
              "      <td>@CathieDWood @ARKInvest wow</td>\n",
              "    </tr>\n",
              "    <tr>\n",
              "      <th>2474</th>\n",
              "      <td>2023-02-01 03:25:09+00:00</td>\n",
              "      <td>CathieDWood</td>\n",
              "      <td>With many thanks to our Chief Futurist, @winto...</td>\n",
              "    </tr>\n",
              "    <tr>\n",
              "      <th>2475</th>\n",
              "      <td>2023-02-01 03:25:09+00:00</td>\n",
              "      <td>CathieDWood</td>\n",
              "      <td>From AI and multi-omics to blockchain technolo...</td>\n",
              "    </tr>\n",
              "  </tbody>\n",
              "</table>\n",
              "<p>2476 rows × 3 columns</p>\n",
              "</div>\n",
              "      <button class=\"colab-df-convert\" onclick=\"convertToInteractive('df-99969d1d-e0ad-4172-9431-402b890b488b')\"\n",
              "              title=\"Convert this dataframe to an interactive table.\"\n",
              "              style=\"display:none;\">\n",
              "        \n",
              "  <svg xmlns=\"http://www.w3.org/2000/svg\" height=\"24px\"viewBox=\"0 0 24 24\"\n",
              "       width=\"24px\">\n",
              "    <path d=\"M0 0h24v24H0V0z\" fill=\"none\"/>\n",
              "    <path d=\"M18.56 5.44l.94 2.06.94-2.06 2.06-.94-2.06-.94-.94-2.06-.94 2.06-2.06.94zm-11 1L8.5 8.5l.94-2.06 2.06-.94-2.06-.94L8.5 2.5l-.94 2.06-2.06.94zm10 10l.94 2.06.94-2.06 2.06-.94-2.06-.94-.94-2.06-.94 2.06-2.06.94z\"/><path d=\"M17.41 7.96l-1.37-1.37c-.4-.4-.92-.59-1.43-.59-.52 0-1.04.2-1.43.59L10.3 9.45l-7.72 7.72c-.78.78-.78 2.05 0 2.83L4 21.41c.39.39.9.59 1.41.59.51 0 1.02-.2 1.41-.59l7.78-7.78 2.81-2.81c.8-.78.8-2.07 0-2.86zM5.41 20L4 18.59l7.72-7.72 1.47 1.35L5.41 20z\"/>\n",
              "  </svg>\n",
              "      </button>\n",
              "      \n",
              "  <style>\n",
              "    .colab-df-container {\n",
              "      display:flex;\n",
              "      flex-wrap:wrap;\n",
              "      gap: 12px;\n",
              "    }\n",
              "\n",
              "    .colab-df-convert {\n",
              "      background-color: #E8F0FE;\n",
              "      border: none;\n",
              "      border-radius: 50%;\n",
              "      cursor: pointer;\n",
              "      display: none;\n",
              "      fill: #1967D2;\n",
              "      height: 32px;\n",
              "      padding: 0 0 0 0;\n",
              "      width: 32px;\n",
              "    }\n",
              "\n",
              "    .colab-df-convert:hover {\n",
              "      background-color: #E2EBFA;\n",
              "      box-shadow: 0px 1px 2px rgba(60, 64, 67, 0.3), 0px 1px 3px 1px rgba(60, 64, 67, 0.15);\n",
              "      fill: #174EA6;\n",
              "    }\n",
              "\n",
              "    [theme=dark] .colab-df-convert {\n",
              "      background-color: #3B4455;\n",
              "      fill: #D2E3FC;\n",
              "    }\n",
              "\n",
              "    [theme=dark] .colab-df-convert:hover {\n",
              "      background-color: #434B5C;\n",
              "      box-shadow: 0px 1px 3px 1px rgba(0, 0, 0, 0.15);\n",
              "      filter: drop-shadow(0px 1px 2px rgba(0, 0, 0, 0.3));\n",
              "      fill: #FFFFFF;\n",
              "    }\n",
              "  </style>\n",
              "\n",
              "      <script>\n",
              "        const buttonEl =\n",
              "          document.querySelector('#df-99969d1d-e0ad-4172-9431-402b890b488b button.colab-df-convert');\n",
              "        buttonEl.style.display =\n",
              "          google.colab.kernel.accessAllowed ? 'block' : 'none';\n",
              "\n",
              "        async function convertToInteractive(key) {\n",
              "          const element = document.querySelector('#df-99969d1d-e0ad-4172-9431-402b890b488b');\n",
              "          const dataTable =\n",
              "            await google.colab.kernel.invokeFunction('convertToInteractive',\n",
              "                                                     [key], {});\n",
              "          if (!dataTable) return;\n",
              "\n",
              "          const docLinkHtml = 'Like what you see? Visit the ' +\n",
              "            '<a target=\"_blank\" href=https://colab.research.google.com/notebooks/data_table.ipynb>data table notebook</a>'\n",
              "            + ' to learn more about interactive tables.';\n",
              "          element.innerHTML = '';\n",
              "          dataTable['output_type'] = 'display_data';\n",
              "          await google.colab.output.renderOutput(dataTable, element);\n",
              "          const docLink = document.createElement('div');\n",
              "          docLink.innerHTML = docLinkHtml;\n",
              "          element.appendChild(docLink);\n",
              "        }\n",
              "      </script>\n",
              "    </div>\n",
              "  </div>\n",
              "  "
            ]
          },
          "metadata": {},
          "execution_count": 78
        }
      ]
    },
    {
      "cell_type": "code",
      "source": [
        "Tweetlist = list(df['tweet'])\n",
        "\n",
        "candiadte_labels = ['positive','neutral','negative']\n",
        "output_tocathi = classifier(Tweetlist, candiadte_labels)\n"
      ],
      "metadata": {
        "id": "ipbB8Uky_9JU"
      },
      "execution_count": 79,
      "outputs": []
    },
    {
      "cell_type": "markdown",
      "source": [
        "Here, we can we how positive or negative the tweet replies are: "
      ],
      "metadata": {
        "id": "2jK6MVH1_9JU"
      }
    },
    {
      "cell_type": "code",
      "source": [
        "output_tocathi[0:10]"
      ],
      "metadata": {
        "colab": {
          "base_uri": "https://localhost:8080/"
        },
        "outputId": "1630f15c-c879-4d3a-a1c6-4a9ccd7c49e6",
        "id": "qt9BrTSX_9JV"
      },
      "execution_count": 149,
      "outputs": [
        {
          "output_type": "execute_result",
          "data": {
            "text/plain": [
              "[{'sequence': '@CathieDWood Wheres the money coming from after millions come to grips with reality on their fresh and juicy new 6％ renewal mortgage. The \" Green transition hype\" will  fizzle to dust in the wind. Govt policy makes ZERO sense. Pipe Dream.',\n",
              "  'labels': ['negative', 'positive', 'neutral'],\n",
              "  'scores': [0.9570214748382568, 0.02485339157283306, 0.018125135451555252]},\n",
              " {'sequence': '@CathieDWood Is there a \"Steve Jobs\" to see it through to fruition though at Microsoft?',\n",
              "  'labels': ['negative', 'positive', 'neutral'],\n",
              "  'scores': [0.6504982113838196, 0.19439375400543213, 0.15510797500610352]},\n",
              " {'sequence': '@CathieDWood ‘s #ARKK \\nhas bought 69,329 more shares of $TSLA. \\n#TSLA #bargain #elon_musk',\n",
              "  'labels': ['positive', 'negative', 'neutral'],\n",
              "  'scores': [0.5580429434776306, 0.2851247489452362, 0.1568322628736496]},\n",
              " {'sequence': \"@CathieDWood It's not even AI. It's censored algorithmic propaganda For the marxist takeover of the planet.\",\n",
              "  'labels': ['negative', 'neutral', 'positive'],\n",
              "  'scores': [0.9880831241607666, 0.006785025354474783, 0.00513189472258091]},\n",
              " {'sequence': '@CathieDWood @ARKInvest @downingARK @summerlinARK Is the pre screening showing he knows how to loose massive amounts of cash',\n",
              "  'labels': ['negative', 'neutral', 'positive'],\n",
              "  'scores': [0.9168165922164917, 0.0446675680577755, 0.03851586952805519]},\n",
              " {'sequence': '@CathieDWood Cathie should i buy tesla stock?',\n",
              "  'labels': ['positive', 'neutral', 'negative'],\n",
              "  'scores': [0.5667354464530945, 0.2707233130931854, 0.1625411957502365]},\n",
              " {'sequence': '@CathieDWood @TashaARK and @ARKInvest nibbling on $TSLA like: https://t.co/0f7M0IkBpO',\n",
              "  'labels': ['positive', 'neutral', 'negative'],\n",
              "  'scores': [0.722256064414978, 0.16644707322120667, 0.11129685491323471]},\n",
              " {'sequence': '@CathieDWood ur the best .',\n",
              "  'labels': ['positive', 'neutral', 'negative'],\n",
              "  'scores': [0.9762125611305237, 0.015658628195524216, 0.008128794841468334]},\n",
              " {'sequence': '@CathieDWood @allstarcharts',\n",
              "  'labels': ['positive', 'neutral', 'negative'],\n",
              "  'scores': [0.555301308631897, 0.27339425683021545, 0.17130440473556519]},\n",
              " {'sequence': '@CathieDWood call The Dev \\n\\n-\\nThe Dev\\n\\n@heyitsmethedev',\n",
              "  'labels': ['negative', 'positive', 'neutral'],\n",
              "  'scores': [0.6945185661315918, 0.18903540074825287, 0.11644600331783295]}]"
            ]
          },
          "metadata": {},
          "execution_count": 149
        }
      ]
    },
    {
      "cell_type": "markdown",
      "source": [
        "Now, lets have a look at the sentiment analysis of the overal audience."
      ],
      "metadata": {
        "id": "_-hzBaJ__9JV"
      }
    },
    {
      "cell_type": "code",
      "source": [
        "avg_score_tocathi = [0,0,0]\n",
        "for i in range(0,len(output_tocathi)):\n",
        "  avg_score_tocathi = np.array(output_tocathi[i]['scores'])+avg_score_tocathi\n",
        "\n",
        "\n",
        "plt.bar(x=candiadte_labels, height=100* avg_score_tocathi/len(output_tocathi))\n",
        "plt.yticks(list(np.arange(0,100,10)))\n",
        "plt.xticks(rotation = 45)\n",
        "plt.title(\"\\nSentiment analysis of replies to Cathi's Tweets\\n\\n\", fontsize = 14, fontweight = 'bold')\n",
        "plt.ylabel(\"Percentage\")\n",
        "plt.show()"
      ],
      "metadata": {
        "colab": {
          "base_uri": "https://localhost:8080/",
          "height": 365
        },
        "outputId": "2a455e36-c177-4ce9-f463-7c08de72b8f3",
        "id": "QbHNyRMg_9JV"
      },
      "execution_count": 82,
      "outputs": [
        {
          "output_type": "display_data",
          "data": {
            "text/plain": [
              "<Figure size 432x288 with 1 Axes>"
            ],
            "image/png": "[encoded data removed]"
          },
          "metadata": {}
        }
      ]
    },
    {
      "cell_type": "markdown",
      "source": [
        "Done!\n",
        "\n",
        "Ok, now, lets find out the most active followers from the replies. "
      ],
      "metadata": {
        "id": "B6-7MWvx_9JV"
      }
    },
    {
      "cell_type": "code",
      "source": [
        "Followers = list(df['username'])"
      ],
      "metadata": {
        "id": "z1v3t3PF_9JV"
      },
      "execution_count": null,
      "outputs": []
    },
    {
      "cell_type": "code",
      "source": [
        "def reduce_to_duplicates(orig_list):\n",
        "  counts = {}\n",
        "  for i in orig_list:\n",
        "    if i in counts:\n",
        "      counts[i] += 1\n",
        "    else:\n",
        "      counts[i] = 1\n",
        "  duplist = [k for k, v in sorted(counts.items(), key=lambda item: item[1], reverse=True)[:5]]\n",
        "  return duplist\n"
      ],
      "metadata": {
        "id": "lRBbMmuR_9JW"
      },
      "execution_count": 84,
      "outputs": []
    },
    {
      "cell_type": "code",
      "source": [
        "Active_Followers = Followers.copy()\n",
        "Active_Followers = reduce_to_duplicates(Active_Followers)\n",
        "print(\"Cathi's Active_Followers:\\n\")\n",
        "pprint.pprint(Active_Followers)"
      ],
      "metadata": {
        "colab": {
          "base_uri": "https://localhost:8080/"
        },
        "outputId": "507a7d8e-29da-4257-dcd8-6f14ab957747",
        "id": "1vDYxaCM_9JW"
      },
      "execution_count": 85,
      "outputs": [
        {
          "output_type": "stream",
          "name": "stdout",
          "text": [
            "Cathi's Active_Followers:\n",
            "\n",
            "['jeno_long', 'MKucala', 'ChaseAli', 'ekfpromo', 'DeGeneralDimes']\n"
          ]
        }
      ]
    },
    {
      "cell_type": "markdown",
      "source": [
        "And lastly, account summarization!"
      ],
      "metadata": {
        "id": "mefOpkfWjzcp"
      }
    },
    {
      "cell_type": "markdown",
      "source": [
        "### 3.3. Account Summarization"
      ],
      "metadata": {
        "id": "kL_KuyVfYHXO"
      }
    },
    {
      "cell_type": "code",
      "source": [
        "# Concatenate the text of all the tweets\n",
        "alltext_Cathi = \"\"\n",
        "for tweet in Tweetlist:\n",
        "    alltext_Cathi += tweet\n",
        "alltext_Cathi"
      ],
      "metadata": {
        "colab": {
          "base_uri": "https://localhost:8080/",
          "height": 192
        },
        "id": "r63k0GKv_M_K",
        "outputId": "9fcc63d9-32a6-42a4-8170-5a707830bc28"
      },
      "execution_count": 138,
      "outputs": [
        {
          "output_type": "execute_result",
          "data": {
            "text/plain": [
              "'As Art Laffer postulates in his latest book, “Taxes Have Consequences”. Given Biden’s latest budget proposals, the great migration to low or no tax states like FL and TN and, in my view, to countries hungry for innovation in Asia and elsewhere is likely to accelerate.Provocative. During the last few years, I have expressed my frustration with Google search, deeming it primitive AI, notwithstanding Alphabet’s DeepMind expertise. OpenAI/Microsoft’s ChatGPT is the “iPhone moment” of this decade, changing everything. Disruptive innovation!Important perspective.On @CNBC this week, @SaraEisen asked if #Tesla is cutting prices in response to competition. After investor day, @skorusARK illustrated that Tesla is passing along drivetrain cost declines that will cut the price of the Model 3 in half to $25,000, undercutting competition!Welcome to @ARKInvest, Daniel! We are delighted that you will be working with @TashaARK and @skorusARK to  research autonomous mobility, the biggest technologically-enabled revenue opportunity that we expect to evolve during the next five to ten years.@daltonan Looking forward to tuning in!One more thought: @ARKInvest has a five year investment time horizon. Now that the most brutal interest rate increase in history is near an end, growth stocks in general and innovation-based strategies in particular should make up for lost time.Thank you, @EricBalchunas, for defending active equity management. Upon hearing why I founded @ARKInvest in 2014, a friend who was not in the investment business said, “Oh, you mean the future of investing is investing in the future?” Yes! Please see ARK’s Big Ideas 2023.Think about AI as the assembly line for knowledge workers! Roughly 100 years ago, the assembly line turbocharged the Industrial Revolution. Today, AI is turbocharging the digital revolution, not only for enterprises but also for consumers.Charlie Munger and many on Wall Street do not understand that passing along the lower costs associated with technologically-enabled innovation, in #Tesla’s case batteries and drivetrains, will cause a boom in unit demand, discrediting the Keynesian/Fed’s Phillips Curve model.The 10-fold increase in lithium prices during the past two years is a clarion call for more production and supply. Now that CATL in China, Samsung and LG in Korea, and major auto makers have committed to the EV revolution, odds are high that lithium will be in excess supply…So, activity moves to offshore exchanges or to self custody, self sovereignty, and self control? Decentralization wins. Great! Given regulatory arbitrage, however, US exchanges lose to foreign exchanges, not so good for US competitiveness in the crypto revolutions, in my view..@ARKInvest is thrilled that Emmaline and Camilla, students participating in the pilot sixth grade science curriculum powered by our research at the Pinellas Park Middle School, received the FAST award for their science project and will compete at the Florida State Science Fair!Connected TV should be a prime beneficiary of the $70 billion shift in advertising dollars from linear to digital TV in the US and the $170 billion shift globally. Good catch @andrewkimARK!‼️Bitcoin Monthly includes several important charts suggesting seller exhaustion and robust fundamentals. Thank you @dpuellARK  and @yassineARK!With many thanks to our Chief Futurist, @wintonARK, our Directors, @tashaARK, @skorusARK, @sbarnettARK, @downingARK, our phenomenal analysts, our unmatched marketing team - led by Lisa Dodd - and a compliance team that truly understands the value of transparency!From AI and multi-omics to blockchain technologies, energy storage and beyond, Big Ideas 2023 details ARK’s forecasts for these technologies and the powerful convergences between and among them. The future of investing is investing in the future. Be on the right side of change!Today, @ARKInvest published the seventh edition of Big Ideas 2023. According to our research, the market value of disruptive innovation platforms could scale 40% at an annual rate during this cycle, from $13 trillion today to $200 trillion by 2030.\\n\\nhttps://t.co/CC03vRWyzA'"
            ],
            "application/vnd.google.colaboratory.intrinsic+json": {
              "type": "string"
            }
          },
          "metadata": {},
          "execution_count": 138
        }
      ]
    },
    {
      "cell_type": "code",
      "source": [
        "summarizer = pipeline('summarization', model='t5-large')"
      ],
      "metadata": {
        "colab": {
          "base_uri": "https://localhost:8080/"
        },
        "id": "h7nOMAUKCAj_",
        "outputId": "91d63996-f907-43f8-a828-d90066e82571"
      },
      "execution_count": null,
      "outputs": [
        {
          "output_type": "stream",
          "name": "stderr",
          "text": [
            "/usr/local/lib/python3.9/dist-packages/transformers/models/t5/tokenization_t5_fast.py:155: FutureWarning: This tokenizer was incorrectly instantiated with a model max length of 512 which will be corrected in Transformers v5.\n",
            "For now, this behavior is kept to avoid breaking backwards compatibility when padding/encoding with `truncation is True`.\n",
            "- Be aware that you SHOULD NOT rely on t5-large automatically truncating your input to 512 when padding/encoding.\n",
            "- If you want to encode/pad to sequences longer than 512 you can either instantiate this tokenizer with `model_max_length` or pass `max_length` when encoding/padding.\n",
            "- To avoid this warning, please instantiate this tokenizer with `model_max_length` set to your preferred value.\n",
            "  warnings.warn(\n"
          ]
        }
      ]
    },
    {
      "cell_type": "code",
      "source": [
        "account_summary = summarizer(alltext_Cathi, max_length=200, min_length=20)[0][\"summary_text\"]"
      ],
      "metadata": {
        "colab": {
          "base_uri": "https://localhost:8080/",
          "height": 125
        },
        "id": "JW4gOQ_W_hL6",
        "outputId": "dad2caa0-fcc0-41f3-99f5-7059e886027f"
      },
      "execution_count": null,
      "outputs": [
        {
          "output_type": "stream",
          "name": "stderr",
          "text": [
            "Token indices sequence length is longer than the specified maximum sequence length for this model (979 > 512). Running this sequence through the model will result in indexing errors\n",
            "/usr/local/lib/python3.9/dist-packages/transformers/generation/utils.py:1186: UserWarning: You have modified the pretrained model configuration to control generation. This is a deprecated strategy to control generation and will be removed soon, in a future version. Please use a generation configuration file (see https://huggingface.co/docs/transformers/main_classes/text_generation)\n",
            "  warnings.warn(\n"
          ]
        },
        {
          "output_type": "execute_result",
          "data": {
            "text/plain": [
              "\"ARK's Big Ideas 2023 details ARK’s forecasts for disruptive innovation platforms . the market value of disruption platforms could scale 40% at an annual rate by 2030 . ark's research shows that e-commerce is poised to become a trillion-dollar industry by 2025 .\""
            ],
            "application/vnd.google.colaboratory.intrinsic+json": {
              "type": "string"
            }
          },
          "metadata": {},
          "execution_count": 16
        }
      ]
    },
    {
      "cell_type": "code",
      "source": [
        "! pip install pprint\n",
        "from pprint import pprint"
      ],
      "metadata": {
        "colab": {
          "base_uri": "https://localhost:8080/"
        },
        "id": "Fm4xqTvrL6_x",
        "outputId": "a9306e1f-3818-4644-fd2f-5251cb7e4f2e"
      },
      "execution_count": null,
      "outputs": [
        {
          "output_type": "stream",
          "name": "stdout",
          "text": [
            "Looking in indexes: https://pypi.org/simple, https://us-python.pkg.dev/colab-wheels/public/simple/\n",
            "\u001b[31mERROR: Could not find a version that satisfies the requirement pprint (from versions: none)\u001b[0m\u001b[31m\n",
            "\u001b[0m\u001b[31mERROR: No matching distribution found for pprint\u001b[0m\u001b[31m\n",
            "\u001b[0m"
          ]
        }
      ]
    },
    {
      "cell_type": "code",
      "source": [
        "print(\"\\33[1mThe summary of Taylor's account is:\\33[0m \\n\")\n",
        "pprint(account_summary)"
      ],
      "metadata": {
        "colab": {
          "base_uri": "https://localhost:8080/"
        },
        "id": "BFm7YzHUMbZk",
        "outputId": "e9b4e883-dc8b-4440-e9c9-8109185e7593"
      },
      "execution_count": null,
      "outputs": [
        {
          "output_type": "stream",
          "name": "stdout",
          "text": [
            "\u001b[1mThe summary of Taylor's account is:\u001b[0m \n",
            "\n",
            "(\"ARK's Big Ideas 2023 details ARK’s forecasts for disruptive innovation \"\n",
            " 'platforms . the market value of disruption platforms could scale 40% at an '\n",
            " \"annual rate by 2030 . ark's research shows that e-commerce is poised to \"\n",
            " 'become a trillion-dollar industry by 2025 .')\n"
          ]
        }
      ]
    },
    {
      "cell_type": "markdown",
      "source": [
        "Now, let's summarize in two paragraphs:"
      ],
      "metadata": {
        "id": "kSBqd57PYWvW"
      }
    },
    {
      "cell_type": "code",
      "source": [
        "summary1_cathi = summarizer(alltext_Cathi, max_length=400, min_length=50)[0][\"summary_text\"]\n",
        "\n",
        "# Generate a second summary that complements the first\n",
        "num_sentences = summary1_cathi.count('. ') + 1  # Count the number of sentences in summary1\n",
        "sentences = alltext_Cathi.split('. ')  # Split the text at sentence boundaries\n",
        "midpoint = num_sentences * len(sentences) // (2 * num_sentences)  # Find the midpoint based on sentence count\n",
        "\n",
        "text2 = ' '.join(sentences[midpoint:])\n",
        "summary2_cathi = summarizer(text2, max_length=400, min_length=50)[0][\"summary_text\"]\n",
        "\n",
        "# Assign the two summaries to different paragraphs\n",
        "summary_paragraph1_cathi = summary1_cathi\n",
        "summary_paragraph2_cathi = summary2_cathi"
      ],
      "metadata": {
        "id": "OXv_FJekMqtp"
      },
      "execution_count": 139,
      "outputs": []
    },
    {
      "cell_type": "code",
      "source": [
        "print(\"\\33[1mThe summary of Taylor's account is:\\33[0m \\n\")\n",
        "pprint.pprint(summary_paragraph1_cathi)\n",
        "print(\"\\n\")\n",
        "pprint.pprint(summary_paragraph2_cathi)"
      ],
      "metadata": {
        "colab": {
          "base_uri": "https://localhost:8080/"
        },
        "outputId": "948dfa6a-c6a0-49a5-e5dc-3242aa1b8b1e",
        "id": "C7WNnDxGMqt7"
      },
      "execution_count": 140,
      "outputs": [
        {
          "output_type": "stream",
          "name": "stdout",
          "text": [
            "\u001b[1mThe summary of Taylor's account is:\u001b[0m \n",
            "\n",
            "(\"ARK's Big Ideas 2023 details ARK’s forecasts for disruptive innovation \"\n",
            " 'platforms . the market value of disruption platforms could scale 40% at an '\n",
            " \"annual rate by 2030 . ark's research shows that e-commerce is poised to \"\n",
            " 'become a trillion-dollar industry by 2025 .')\n",
            "\n",
            "\n",
            "('ARKInvest published the seventh edition of Big Ideas 2023 . the market value '\n",
            " 'of disruptive innovation platforms could scale 40% at an annual rate during '\n",
            " 'this cycle, from $13 trillion today to $200 trillion by 2030 . ARK’s '\n",
            " 'research shows that the future of investing is investing in the future .')\n"
          ]
        }
      ]
    },
    {
      "cell_type": "markdown",
      "source": [
        "All done! There is of course room for improvement, especially in summarization when it comes to more than one paragraph.\n",
        "\n",
        "As a next step, we can also try streaming the results using a REST API.\n",
        "There are also lots of other analysis we can do applying these methods. For instance, if we define the categories as Elon's companies and investigate the amount of tweets about them using sentiment analysis, there might (or might not) be a correlation between this pattern and the company's stocks.\n",
        "And lots of other fun things to try!\n",
        "\n",
        "If you have any qestions or wanted to discuss further, please contact me via: nheydari@uwaterloo.ca"
      ],
      "metadata": {
        "id": "12hE8v_CkfOg"
      }
    }
  ]
}